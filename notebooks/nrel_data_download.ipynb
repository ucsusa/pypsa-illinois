{
 "cells": [
  {
   "cell_type": "code",
   "execution_count": 1,
   "metadata": {},
   "outputs": [],
   "source": [
    "import numpy as np\n",
    "import sys\n",
    "import os\n",
    "import pandas as pd\n",
    "import matplotlib.pyplot as plt\n",
    "from us import states\n",
    "import geopandas as gpd\n",
    "from shapely import Point\n",
    "from pathlib import Path\n",
    "from tqdm import tqdm\n",
    "\n",
    "sys.path.append(\"../functions\")\n",
    "\n",
    "from nrel_data_api import *"
   ]
  },
  {
   "cell_type": "code",
   "execution_count": 2,
   "metadata": {},
   "outputs": [
    {
     "name": "stdout",
     "output_type": "stream",
     "text": [
      "CPU times: total: 297 ms\n",
      "Wall time: 1.37 s\n"
     ]
    }
   ],
   "source": [
    "%%time\n",
    "il_counties = gpd.read_file(states.IL.shapefile_urls()['county'])"
   ]
  },
  {
   "cell_type": "code",
   "execution_count": 3,
   "metadata": {},
   "outputs": [
    {
     "name": "stdout",
     "output_type": "stream",
     "text": [
      "CPU times: total: 375 ms\n",
      "Wall time: 376 ms\n"
     ]
    }
   ],
   "source": [
    "%%time\n",
    "il_counties.to_crs(epsg=4326, inplace=True)"
   ]
  },
  {
   "cell_type": "markdown",
   "metadata": {},
   "source": [
    "# Get Service Map"
   ]
  },
  {
   "cell_type": "code",
   "execution_count": 4,
   "metadata": {},
   "outputs": [
    {
     "name": "stderr",
     "output_type": "stream",
     "text": [
      "c:\\Users\\sdotson\\AppData\\Local\\miniforge3\\envs\\pypsa-illinois\\lib\\site-packages\\pyogrio\\geopandas.py:49: FutureWarning: errors='ignore' is deprecated and will raise in a future version. Use to_datetime without passing `errors` and catch exceptions explicitly instead\n",
      "  res = pd.to_datetime(ser, **datetime_kwargs)\n",
      "c:\\Users\\sdotson\\AppData\\Local\\miniforge3\\envs\\pypsa-illinois\\lib\\site-packages\\pyogrio\\geopandas.py:49: FutureWarning: errors='ignore' is deprecated and will raise in a future version. Use to_datetime without passing `errors` and catch exceptions explicitly instead\n",
      "  res = pd.to_datetime(ser, **datetime_kwargs)\n"
     ]
    },
    {
     "name": "stdout",
     "output_type": "stream",
     "text": [
      "CPU times: total: 750 ms\n",
      "Wall time: 768 ms\n"
     ]
    }
   ],
   "source": [
    "%%time\n",
    "bounding_box = None\n",
    "service_gdf = gpd.read_file(\"../../spatial-data/Electric_Retail_Service_Territories/Electric_Retail_Service_Territories.shp\",\n",
    "                            bbox=bounding_box)"
   ]
  },
  {
   "cell_type": "code",
   "execution_count": 5,
   "metadata": {},
   "outputs": [],
   "source": [
    "il_service = service_gdf[service_gdf['STATE']=='IL']"
   ]
  },
  {
   "cell_type": "code",
   "execution_count": 6,
   "metadata": {},
   "outputs": [],
   "source": [
    "il_service = il_service.replace(dict(zip(il_service['CNTRL_AREA'].unique(), ['MISO-Z4','ComEd','EEI'])))"
   ]
  },
  {
   "cell_type": "code",
   "execution_count": 7,
   "metadata": {},
   "outputs": [],
   "source": [
    "il_service['AVG_GHI'] = np.nan"
   ]
  },
  {
   "cell_type": "code",
   "execution_count": 8,
   "metadata": {},
   "outputs": [],
   "source": [
    "il_service_simple = il_service.dissolve('CNTRL_AREA',as_index=False).set_index(\"CNTRL_AREA\", drop=False).drop(labels='EEI')"
   ]
  },
  {
   "cell_type": "code",
   "execution_count": 9,
   "metadata": {},
   "outputs": [],
   "source": [
    "centroids = il_service_simple.to_crs(epsg=5070).centroid.to_crs(epsg=4269)\n",
    "il_service_simple = il_service_simple.assign(centroids = centroids, longitude_ctr = centroids.x, latitude_ctr = centroids.y)"
   ]
  },
  {
   "cell_type": "code",
   "execution_count": 10,
   "metadata": {},
   "outputs": [
    {
     "data": {
      "image/png": "[encoded data removed]",
      "text/plain": [
       "<Figure size 640x480 with 1 Axes>"
      ]
     },
     "metadata": {},
     "output_type": "display_data"
    }
   ],
   "source": [
    "fig, ax = plt.subplots()\n",
    "il_counties.dissolve('STATEFP10').plot(ax=ax,facecolor='w',edgecolor='k')\n",
    "il_service_simple.plot(ax=ax, \n",
    "                column='CNTRL_AREA',\n",
    "                categorical=True,\n",
    "                cmap='prism',\n",
    "                legend=True,\n",
    "                legend_kwds=dict(loc=(-0.1, -0.1), ncols=3),\n",
    "                alpha=0.5,\n",
    "                edgecolor='k')\n",
    "il_service_simple.centroids.plot(ax=ax, color='k')\n",
    "ax.set_axis_off()"
   ]
  },
  {
   "cell_type": "markdown",
   "metadata": {},
   "source": [
    "## Retrieve Solar Energy Data"
   ]
  },
  {
   "cell_type": "code",
   "execution_count": 11,
   "metadata": {},
   "outputs": [],
   "source": [
    "save_dir = Path(\"../nrel_psm_data/\")"
   ]
  },
  {
   "cell_type": "code",
   "execution_count": 12,
   "metadata": {},
   "outputs": [
    {
     "data": {
      "text/plain": [
       "nan"
      ]
     },
     "execution_count": 12,
     "metadata": {},
     "output_type": "execute_result"
    }
   ],
   "source": [
    "il_service_simple.loc['MISO-Z4','AVG_GHI']"
   ]
  },
  {
   "cell_type": "code",
   "execution_count": 13,
   "metadata": {},
   "outputs": [
    {
     "data": {
      "text/plain": [
       "array([['ComEd', 41.73209718095747, -88.7911654422688],\n",
       "       ['MISO-Z4', 39.62544491725518, -89.28055235574193]], dtype=object)"
      ]
     },
     "execution_count": 13,
     "metadata": {},
     "output_type": "execute_result"
    }
   ],
   "source": [
    "il_service_simple[['CNTRL_AREA', 'latitude_ctr','longitude_ctr']].loc[['ComEd','MISO-Z4']].values"
   ]
  },
  {
   "cell_type": "code",
   "execution_count": 14,
   "metadata": {},
   "outputs": [],
   "source": [
    "save_dir = Path(\"../data/nrel_psm_data\").resolve()\n",
    "save_dir.mkdir(exist_ok=True)"
   ]
  },
  {
   "cell_type": "code",
   "execution_count": 15,
   "metadata": {},
   "outputs": [
    {
     "name": "stderr",
     "output_type": "stream",
     "text": [
      "Processing MISO-Z4: 100%|██████████| 2/2 [00:05<00:00,  2.80s/it]\n"
     ]
    }
   ],
   "source": [
    "pbar = tqdm(il_service_simple[['CNTRL_AREA', 'latitude_ctr','longitude_ctr']].loc[['ComEd','MISO-Z4']].values, position=0, leave=True)\n",
    "for n, i, j in pbar:\n",
    "    pbar.set_description(f\"Processing {n}\")\n",
    "    parameters['lon'] = j\n",
    "    parameters['lat'] = i\n",
    "    URL = make_csv_url(parameters=parameters, personal_data=personal_data, kind='solar')\n",
    "    df = pd.read_csv(URL, skiprows=2)\n",
    "    avg_ghi = df.GHI.mean()\n",
    "    il_service_simple.loc[n, 'AVG_GHI'] = avg_ghi\n",
    "    y = parameters['year']\n",
    "    data_path = save_dir/f'{n}_solar_{y}.csv'\n",
    "    df.to_csv(data_path)"
   ]
  },
  {
   "cell_type": "markdown",
   "metadata": {},
   "source": [
    "## Retrieve Wind Speed Data"
   ]
  },
  {
   "cell_type": "code",
   "execution_count": 16,
   "metadata": {},
   "outputs": [
    {
     "data": {
      "text/plain": [
       "{'lon': -89.28055235574193,\n",
       " 'lat': 39.62544491725518,\n",
       " 'year': 2012,\n",
       " 'leap_day': 'true',\n",
       " 'selector': 'POINT',\n",
       " 'utc': 'false',\n",
       " 'interval': '30',\n",
       " 'attr_list': ['windspeed_80m',\n",
       "  'temperature_80m',\n",
       "  'windspeed_100m',\n",
       "  'temperature_100m']}"
      ]
     },
     "execution_count": 16,
     "metadata": {},
     "output_type": "execute_result"
    }
   ],
   "source": [
    "wind_attr = ['windspeed_80m','temperature_80m','windspeed_100m','temperature_100m']\n",
    "parameters['attr_list'] = wind_attr\n",
    "parameters['year'] = 2012\n",
    "parameters"
   ]
  },
  {
   "cell_type": "code",
   "execution_count": 17,
   "metadata": {},
   "outputs": [],
   "source": [
    "il_service_simple['AVG_WIND_80M'] = np.nan"
   ]
  },
  {
   "cell_type": "code",
   "execution_count": 18,
   "metadata": {},
   "outputs": [],
   "source": [
    "save_dir = Path(\"../data/nrel_wtk_data\")\n",
    "save_dir.mkdir(exist_ok=True)"
   ]
  },
  {
   "cell_type": "code",
   "execution_count": 19,
   "metadata": {},
   "outputs": [
    {
     "name": "stderr",
     "output_type": "stream",
     "text": [
      "Processing MISO-Z4: 100%|██████████| 2/2 [00:06<00:00,  3.32s/it]\n"
     ]
    }
   ],
   "source": [
    "pbar = tqdm(il_service_simple[['CNTRL_AREA', 'latitude_ctr','longitude_ctr']].loc[['ComEd','MISO-Z4']].values, position=0, leave=True)\n",
    "for n, i, j in pbar:\n",
    "    pbar.set_description(f\"Processing {n}\")\n",
    "    parameters['lon'] = j\n",
    "    parameters['lat'] = i\n",
    "    URL = make_csv_url(parameters=parameters, personal_data=personal_data, kind='wind')\n",
    "    df = pd.read_csv(URL, skiprows=1)\n",
    "    avg_wind = df['wind speed at 80m (m/s)'].mean()\n",
    "    il_service_simple.loc[n,'AVG_WIND_80M'] = avg_wind\n",
    "    y = parameters['year']\n",
    "    data_path = save_dir/f'{n}_wind_{y}.csv'\n",
    "    df.to_csv(data_path)"
   ]
  },
  {
   "cell_type": "code",
   "execution_count": 20,
   "metadata": {},
   "outputs": [
    {
     "data": {
      "text/html": [
       "<div>\n",
       "<style scoped>\n",
       "    .dataframe tbody tr th:only-of-type {\n",
       "        vertical-align: middle;\n",
       "    }\n",
       "\n",
       "    .dataframe tbody tr th {\n",
       "        vertical-align: top;\n",
       "    }\n",
       "\n",
       "    .dataframe thead th {\n",
       "        text-align: right;\n",
       "    }\n",
       "</style>\n",
       "<table border=\"1\" class=\"dataframe\">\n",
       "  <thead>\n",
       "    <tr style=\"text-align: right;\">\n",
       "      <th></th>\n",
       "      <th>CNTRL_AREA</th>\n",
       "      <th>geometry</th>\n",
       "      <th>OBJECTID</th>\n",
       "      <th>ID</th>\n",
       "      <th>NAME</th>\n",
       "      <th>ADDRESS</th>\n",
       "      <th>CITY</th>\n",
       "      <th>STATE</th>\n",
       "      <th>ZIP</th>\n",
       "      <th>TELEPHONE</th>\n",
       "      <th>...</th>\n",
       "      <th>TRANS_MWH</th>\n",
       "      <th>CUSTOMERS</th>\n",
       "      <th>YEAR</th>\n",
       "      <th>Shape__Are</th>\n",
       "      <th>Shape__Len</th>\n",
       "      <th>AVG_GHI</th>\n",
       "      <th>centroids</th>\n",
       "      <th>longitude_ctr</th>\n",
       "      <th>latitude_ctr</th>\n",
       "      <th>AVG_WIND_80M</th>\n",
       "    </tr>\n",
       "    <tr>\n",
       "      <th>CNTRL_AREA</th>\n",
       "      <th></th>\n",
       "      <th></th>\n",
       "      <th></th>\n",
       "      <th></th>\n",
       "      <th></th>\n",
       "      <th></th>\n",
       "      <th></th>\n",
       "      <th></th>\n",
       "      <th></th>\n",
       "      <th></th>\n",
       "      <th></th>\n",
       "      <th></th>\n",
       "      <th></th>\n",
       "      <th></th>\n",
       "      <th></th>\n",
       "      <th></th>\n",
       "      <th></th>\n",
       "      <th></th>\n",
       "      <th></th>\n",
       "      <th></th>\n",
       "      <th></th>\n",
       "    </tr>\n",
       "  </thead>\n",
       "  <tbody>\n",
       "    <tr>\n",
       "      <th>ComEd</th>\n",
       "      <td>ComEd</td>\n",
       "      <td>POLYGON ((-88.96978 40.75259, -88.97976 40.752...</td>\n",
       "      <td>479</td>\n",
       "      <td>13208</td>\n",
       "      <td>CITY OF NAPERVILLE - (IL)</td>\n",
       "      <td>NOT AVAILABLE</td>\n",
       "      <td>NOT AVAILABLE</td>\n",
       "      <td>IL</td>\n",
       "      <td>NOT AVAILABLE</td>\n",
       "      <td>NOT AVAILABLE</td>\n",
       "      <td>...</td>\n",
       "      <td>0</td>\n",
       "      <td>60958</td>\n",
       "      <td>2020</td>\n",
       "      <td>0.331451</td>\n",
       "      <td>3.234014</td>\n",
       "      <td>158.591210</td>\n",
       "      <td>POINT (-88.79117 41.73210)</td>\n",
       "      <td>-88.791165</td>\n",
       "      <td>41.732097</td>\n",
       "      <td>6.602602</td>\n",
       "    </tr>\n",
       "    <tr>\n",
       "      <th>MISO-Z4</th>\n",
       "      <td>MISO-Z4</td>\n",
       "      <td>MULTIPOLYGON (((-90.22819 38.10127, -90.23033 ...</td>\n",
       "      <td>282</td>\n",
       "      <td>11736</td>\n",
       "      <td>CITY OF MARSHALL - (IL)</td>\n",
       "      <td>201 SOUTH MICHIGAN</td>\n",
       "      <td>MARSHALL</td>\n",
       "      <td>IL</td>\n",
       "      <td>62441</td>\n",
       "      <td>NOT AVAILABLE</td>\n",
       "      <td>...</td>\n",
       "      <td>-999999</td>\n",
       "      <td>-999999</td>\n",
       "      <td>2020</td>\n",
       "      <td>0.000657</td>\n",
       "      <td>0.294962</td>\n",
       "      <td>168.559304</td>\n",
       "      <td>POINT (-89.28055 39.62544)</td>\n",
       "      <td>-89.280552</td>\n",
       "      <td>39.625445</td>\n",
       "      <td>6.753279</td>\n",
       "    </tr>\n",
       "  </tbody>\n",
       "</table>\n",
       "<p>2 rows × 42 columns</p>\n",
       "</div>"
      ],
      "text/plain": [
       "           CNTRL_AREA                                           geometry  \\\n",
       "CNTRL_AREA                                                                 \n",
       "ComEd           ComEd  POLYGON ((-88.96978 40.75259, -88.97976 40.752...   \n",
       "MISO-Z4       MISO-Z4  MULTIPOLYGON (((-90.22819 38.10127, -90.23033 ...   \n",
       "\n",
       "            OBJECTID     ID                       NAME             ADDRESS  \\\n",
       "CNTRL_AREA                                                                   \n",
       "ComEd            479  13208  CITY OF NAPERVILLE - (IL)       NOT AVAILABLE   \n",
       "MISO-Z4          282  11736    CITY OF MARSHALL - (IL)  201 SOUTH MICHIGAN   \n",
       "\n",
       "                     CITY STATE            ZIP      TELEPHONE  ... TRANS_MWH  \\\n",
       "CNTRL_AREA                                                     ...             \n",
       "ComEd       NOT AVAILABLE    IL  NOT AVAILABLE  NOT AVAILABLE  ...         0   \n",
       "MISO-Z4          MARSHALL    IL          62441  NOT AVAILABLE  ...   -999999   \n",
       "\n",
       "           CUSTOMERS  YEAR Shape__Are Shape__Len     AVG_GHI  \\\n",
       "CNTRL_AREA                                                     \n",
       "ComEd          60958  2020   0.331451   3.234014  158.591210   \n",
       "MISO-Z4      -999999  2020   0.000657   0.294962  168.559304   \n",
       "\n",
       "                             centroids longitude_ctr latitude_ctr AVG_WIND_80M  \n",
       "CNTRL_AREA                                                                      \n",
       "ComEd       POINT (-88.79117 41.73210)    -88.791165    41.732097     6.602602  \n",
       "MISO-Z4     POINT (-89.28055 39.62544)    -89.280552    39.625445     6.753279  \n",
       "\n",
       "[2 rows x 42 columns]"
      ]
     },
     "execution_count": 20,
     "metadata": {},
     "output_type": "execute_result"
    }
   ],
   "source": [
    "il_service_simple"
   ]
  },
  {
   "cell_type": "markdown",
   "metadata": {},
   "source": [
    "# Map the data"
   ]
  },
  {
   "cell_type": "code",
   "execution_count": 21,
   "metadata": {},
   "outputs": [
    {
     "data": {
      "text/plain": [
       "2"
      ]
     },
     "execution_count": 21,
     "metadata": {},
     "output_type": "execute_result"
    }
   ],
   "source": [
    "len(il_service_simple)"
   ]
  },
  {
   "cell_type": "code",
   "execution_count": 26,
   "metadata": {},
   "outputs": [
    {
     "data": {
      "image/png": "[encoded data removed]",
      "text/plain": [
       "<Figure size 640x480 with 2 Axes>"
      ]
     },
     "metadata": {},
     "output_type": "display_data"
    }
   ],
   "source": [
    "k = len(il_service_simple)\n",
    "fig, ax = plt.subplots(1,2)\n",
    "il_counties.dissolve('STATEFP10').plot(ax=ax[0],facecolor='w',edgecolor='k')\n",
    "il_counties.dissolve('STATEFP10').plot(ax=ax[1],facecolor='w',edgecolor='k')\n",
    "il_service_simple.plot(ax=ax[0], \n",
    "                column='AVG_GHI',\n",
    "                scheme='equal_interval',\n",
    "                k=k,\n",
    "                cmap='autumn_r',\n",
    "                legend=True,\n",
    "                # alpha=0.5,\n",
    "                edgecolor='k')\n",
    "il_service_simple.plot(ax=ax[1], \n",
    "                column='AVG_WIND_80M',\n",
    "                cmap='winter_r',\n",
    "                scheme='equal_interval',\n",
    "                k=k,\n",
    "                legend=True,\n",
    "                # alpha=0.5,\n",
    "                edgecolor='k')\n",
    "ax[0].set_axis_off()\n",
    "ax[1].set_axis_off()\n",
    "plt.tight_layout()"
   ]
  },
  {
   "cell_type": "code",
   "execution_count": null,
   "metadata": {},
   "outputs": [],
   "source": []
  }
 ],
 "metadata": {
  "kernelspec": {
   "display_name": "Python 3",
   "language": "python",
   "name": "python3"
  },
  "language_info": {
   "codemirror_mode": {
    "name": "ipython",
    "version": 3
   },
   "file_extension": ".py",
   "mimetype": "text/x-python",
   "name": "python",
   "nbconvert_exporter": "python",
   "pygments_lexer": "ipython3",
   "version": "3.10.13"
  }
 },
 "nbformat": 4,
 "nbformat_minor": 4
}
