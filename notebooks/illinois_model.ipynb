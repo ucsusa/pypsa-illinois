{
 "cells": [
  {
   "cell_type": "code",
   "execution_count": 1,
   "metadata": {},
   "outputs": [],
   "source": [
    "import pypsa\n",
    "import matplotlib.pyplot as plt\n",
    "import pandas as pd\n",
    "import numpy as np\n",
    "from nrelpy.atb import ATBe\n",
    "from tqdm import tqdm"
   ]
  },
  {
   "cell_type": "markdown",
   "metadata": {},
   "source": [
    "## Technology Data and Costs\n",
    "\n",
    "As a first pass, we can use data curated by the PyPSA team for Europe in units of &euro;. Later, we can convert these to dollars or use data from NREL. The currency years will also need to be updated."
   ]
  },
  {
   "cell_type": "code",
   "execution_count": 2,
   "metadata": {},
   "outputs": [],
   "source": [
    "year = 2030\n",
    "url = f\"https://raw.githubusercontent.com/PyPSA/technology-data/master/outputs/costs_{year}.csv\"\n",
    "costs = pd.read_csv(url, index_col=[0, 1])"
   ]
  },
  {
   "cell_type": "code",
   "execution_count": 3,
   "metadata": {},
   "outputs": [],
   "source": [
    "costs.loc[costs.unit.str.contains(\"/kW\"), \"value\"] *= 1e3\n",
    "costs.unit = costs.unit.str.replace(\"/kW\", \"/MW\")\n",
    "\n",
    "defaults = {\n",
    "    \"FOM\": 0,\n",
    "    \"VOM\": 0,\n",
    "    \"efficiency\": 1,\n",
    "    \"fuel\": 0,\n",
    "    \"investment\": 0,\n",
    "    \"lifetime\": 25,\n",
    "    \"CO2 intensity\": 0,\n",
    "    \"discount rate\": 0.07,\n",
    "}\n",
    "costs = costs.value.unstack().fillna(defaults)\n",
    "\n",
    "costs.at[\"OCGT\", \"fuel\"] = costs.at[\"gas\", \"fuel\"]\n",
    "costs.at[\"CCGT\", \"fuel\"] = costs.at[\"gas\", \"fuel\"]\n",
    "costs.at[\"OCGT\", \"CO2 intensity\"] = costs.at[\"gas\", \"CO2 intensity\"]\n",
    "costs.at[\"CCGT\", \"CO2 intensity\"] = costs.at[\"gas\", \"CO2 intensity\"]"
   ]
  },
  {
   "cell_type": "code",
   "execution_count": 4,
   "metadata": {},
   "outputs": [],
   "source": [
    "def annuity(r, n):\n",
    "    return r / (1.0 - 1.0 / (1.0 + r) ** n)"
   ]
  },
  {
   "cell_type": "code",
   "execution_count": 5,
   "metadata": {},
   "outputs": [],
   "source": [
    "costs[\"marginal_cost\"] = costs[\"VOM\"] + costs[\"fuel\"] / costs[\"efficiency\"]"
   ]
  },
  {
   "cell_type": "code",
   "execution_count": 6,
   "metadata": {},
   "outputs": [],
   "source": [
    "annuity = costs.apply(lambda x: annuity(x[\"discount rate\"], x[\"lifetime\"]), axis=1)"
   ]
  },
  {
   "cell_type": "code",
   "execution_count": 7,
   "metadata": {},
   "outputs": [],
   "source": [
    "costs[\"capital_cost\"] = (annuity + costs[\"FOM\"] / 100) * costs[\"investment\"]"
   ]
  },
  {
   "cell_type": "code",
   "execution_count": 8,
   "metadata": {},
   "outputs": [
    {
     "data": {
      "text/html": [
       "<div>\n",
       "<style scoped>\n",
       "    .dataframe tbody tr th:only-of-type {\n",
       "        vertical-align: middle;\n",
       "    }\n",
       "\n",
       "    .dataframe tbody tr th {\n",
       "        vertical-align: top;\n",
       "    }\n",
       "\n",
       "    .dataframe thead th {\n",
       "        text-align: right;\n",
       "    }\n",
       "</style>\n",
       "<table border=\"1\" class=\"dataframe\">\n",
       "  <thead>\n",
       "    <tr style=\"text-align: right;\">\n",
       "      <th>parameter</th>\n",
       "      <th>C in fuel</th>\n",
       "      <th>C stored</th>\n",
       "      <th>CO2 intensity</th>\n",
       "      <th>CO2 stored</th>\n",
       "      <th>FOM</th>\n",
       "      <th>Motor size</th>\n",
       "      <th>VOM</th>\n",
       "      <th>ammonia-input</th>\n",
       "      <th>c_b</th>\n",
       "      <th>c_v</th>\n",
       "      <th>capacity</th>\n",
       "      <th>capture rate</th>\n",
       "      <th>capture_rate</th>\n",
       "      <th>carbondioxide-input</th>\n",
       "      <th>carbondioxide-output</th>\n",
       "      <th>commodity</th>\n",
       "      <th>compression-electricity-input</th>\n",
       "      <th>compression-heat-output</th>\n",
       "      <th>discount rate</th>\n",
       "      <th>district heat surcharge</th>\n",
       "      <th>district heat-input</th>\n",
       "      <th>efficiency</th>\n",
       "      <th>efficiency-biomass</th>\n",
       "      <th>efficiency-electricity</th>\n",
       "      <th>efficiency-heat</th>\n",
       "      <th>efficiency-hydrogen</th>\n",
       "      <th>efficiency-tot</th>\n",
       "      <th>electricity-input</th>\n",
       "      <th>fuel</th>\n",
       "      <th>hbi-input</th>\n",
       "      <th>heat-input</th>\n",
       "      <th>heat-output</th>\n",
       "      <th>hydrogen-input</th>\n",
       "      <th>investment</th>\n",
       "      <th>lifetime</th>\n",
       "      <th>lohc-input</th>\n",
       "      <th>methane-input</th>\n",
       "      <th>methanol-input</th>\n",
       "      <th>min_fill_level</th>\n",
       "      <th>naphtha-input</th>\n",
       "      <th>nitrogen-input</th>\n",
       "      <th>ore-input</th>\n",
       "      <th>p_nom_ratio</th>\n",
       "      <th>pelletizing cost</th>\n",
       "      <th>marginal_cost</th>\n",
       "      <th>capital_cost</th>\n",
       "    </tr>\n",
       "    <tr>\n",
       "      <th>technology</th>\n",
       "      <th></th>\n",
       "      <th></th>\n",
       "      <th></th>\n",
       "      <th></th>\n",
       "      <th></th>\n",
       "      <th></th>\n",
       "      <th></th>\n",
       "      <th></th>\n",
       "      <th></th>\n",
       "      <th></th>\n",
       "      <th></th>\n",
       "      <th></th>\n",
       "      <th></th>\n",
       "      <th></th>\n",
       "      <th></th>\n",
       "      <th></th>\n",
       "      <th></th>\n",
       "      <th></th>\n",
       "      <th></th>\n",
       "      <th></th>\n",
       "      <th></th>\n",
       "      <th></th>\n",
       "      <th></th>\n",
       "      <th></th>\n",
       "      <th></th>\n",
       "      <th></th>\n",
       "      <th></th>\n",
       "      <th></th>\n",
       "      <th></th>\n",
       "      <th></th>\n",
       "      <th></th>\n",
       "      <th></th>\n",
       "      <th></th>\n",
       "      <th></th>\n",
       "      <th></th>\n",
       "      <th></th>\n",
       "      <th></th>\n",
       "      <th></th>\n",
       "      <th></th>\n",
       "      <th></th>\n",
       "      <th></th>\n",
       "      <th></th>\n",
       "      <th></th>\n",
       "      <th></th>\n",
       "      <th></th>\n",
       "      <th></th>\n",
       "    </tr>\n",
       "  </thead>\n",
       "  <tbody>\n",
       "    <tr>\n",
       "      <th>Ammonia cracker</th>\n",
       "      <td>NaN</td>\n",
       "      <td>NaN</td>\n",
       "      <td>0.0</td>\n",
       "      <td>NaN</td>\n",
       "      <td>4.3000</td>\n",
       "      <td>NaN</td>\n",
       "      <td>0.0000</td>\n",
       "      <td>1.46</td>\n",
       "      <td>NaN</td>\n",
       "      <td>NaN</td>\n",
       "      <td>NaN</td>\n",
       "      <td>NaN</td>\n",
       "      <td>NaN</td>\n",
       "      <td>NaN</td>\n",
       "      <td>NaN</td>\n",
       "      <td>NaN</td>\n",
       "      <td>NaN</td>\n",
       "      <td>NaN</td>\n",
       "      <td>0.07</td>\n",
       "      <td>NaN</td>\n",
       "      <td>NaN</td>\n",
       "      <td>1.0000</td>\n",
       "      <td>NaN</td>\n",
       "      <td>NaN</td>\n",
       "      <td>NaN</td>\n",
       "      <td>NaN</td>\n",
       "      <td>NaN</td>\n",
       "      <td>NaN</td>\n",
       "      <td>0.0</td>\n",
       "      <td>NaN</td>\n",
       "      <td>NaN</td>\n",
       "      <td>NaN</td>\n",
       "      <td>NaN</td>\n",
       "      <td>1.123945e+06</td>\n",
       "      <td>25.0</td>\n",
       "      <td>NaN</td>\n",
       "      <td>NaN</td>\n",
       "      <td>NaN</td>\n",
       "      <td>NaN</td>\n",
       "      <td>NaN</td>\n",
       "      <td>NaN</td>\n",
       "      <td>NaN</td>\n",
       "      <td>NaN</td>\n",
       "      <td>NaN</td>\n",
       "      <td>0.0000</td>\n",
       "      <td>144775.985816</td>\n",
       "    </tr>\n",
       "    <tr>\n",
       "      <th>BEV Bus city</th>\n",
       "      <td>NaN</td>\n",
       "      <td>NaN</td>\n",
       "      <td>0.0</td>\n",
       "      <td>NaN</td>\n",
       "      <td>0.0003</td>\n",
       "      <td>346.5517</td>\n",
       "      <td>0.0952</td>\n",
       "      <td>NaN</td>\n",
       "      <td>NaN</td>\n",
       "      <td>NaN</td>\n",
       "      <td>NaN</td>\n",
       "      <td>NaN</td>\n",
       "      <td>NaN</td>\n",
       "      <td>NaN</td>\n",
       "      <td>NaN</td>\n",
       "      <td>NaN</td>\n",
       "      <td>NaN</td>\n",
       "      <td>NaN</td>\n",
       "      <td>0.07</td>\n",
       "      <td>NaN</td>\n",
       "      <td>NaN</td>\n",
       "      <td>0.8585</td>\n",
       "      <td>NaN</td>\n",
       "      <td>NaN</td>\n",
       "      <td>NaN</td>\n",
       "      <td>NaN</td>\n",
       "      <td>NaN</td>\n",
       "      <td>NaN</td>\n",
       "      <td>0.0</td>\n",
       "      <td>NaN</td>\n",
       "      <td>NaN</td>\n",
       "      <td>NaN</td>\n",
       "      <td>NaN</td>\n",
       "      <td>2.224856e+05</td>\n",
       "      <td>12.0</td>\n",
       "      <td>NaN</td>\n",
       "      <td>NaN</td>\n",
       "      <td>NaN</td>\n",
       "      <td>NaN</td>\n",
       "      <td>NaN</td>\n",
       "      <td>NaN</td>\n",
       "      <td>NaN</td>\n",
       "      <td>NaN</td>\n",
       "      <td>NaN</td>\n",
       "      <td>0.0952</td>\n",
       "      <td>28012.052635</td>\n",
       "    </tr>\n",
       "  </tbody>\n",
       "</table>\n",
       "</div>"
      ],
      "text/plain": [
       "parameter        C in fuel  C stored  CO2 intensity  CO2 stored     FOM  \\\n",
       "technology                                                                \n",
       "Ammonia cracker        NaN       NaN            0.0         NaN  4.3000   \n",
       "BEV Bus city           NaN       NaN            0.0         NaN  0.0003   \n",
       "\n",
       "parameter        Motor size     VOM  ammonia-input  c_b  c_v  capacity  \\\n",
       "technology                                                               \n",
       "Ammonia cracker         NaN  0.0000           1.46  NaN  NaN       NaN   \n",
       "BEV Bus city       346.5517  0.0952            NaN  NaN  NaN       NaN   \n",
       "\n",
       "parameter        capture rate  capture_rate  carbondioxide-input  \\\n",
       "technology                                                         \n",
       "Ammonia cracker           NaN           NaN                  NaN   \n",
       "BEV Bus city              NaN           NaN                  NaN   \n",
       "\n",
       "parameter        carbondioxide-output  commodity  \\\n",
       "technology                                         \n",
       "Ammonia cracker                   NaN        NaN   \n",
       "BEV Bus city                      NaN        NaN   \n",
       "\n",
       "parameter        compression-electricity-input  compression-heat-output  \\\n",
       "technology                                                                \n",
       "Ammonia cracker                            NaN                      NaN   \n",
       "BEV Bus city                               NaN                      NaN   \n",
       "\n",
       "parameter        discount rate  district heat surcharge  district heat-input  \\\n",
       "technology                                                                     \n",
       "Ammonia cracker           0.07                      NaN                  NaN   \n",
       "BEV Bus city              0.07                      NaN                  NaN   \n",
       "\n",
       "parameter        efficiency  efficiency-biomass  efficiency-electricity  \\\n",
       "technology                                                                \n",
       "Ammonia cracker      1.0000                 NaN                     NaN   \n",
       "BEV Bus city         0.8585                 NaN                     NaN   \n",
       "\n",
       "parameter        efficiency-heat  efficiency-hydrogen  efficiency-tot  \\\n",
       "technology                                                              \n",
       "Ammonia cracker              NaN                  NaN             NaN   \n",
       "BEV Bus city                 NaN                  NaN             NaN   \n",
       "\n",
       "parameter        electricity-input  fuel  hbi-input  heat-input  heat-output  \\\n",
       "technology                                                                     \n",
       "Ammonia cracker                NaN   0.0        NaN         NaN          NaN   \n",
       "BEV Bus city                   NaN   0.0        NaN         NaN          NaN   \n",
       "\n",
       "parameter        hydrogen-input    investment  lifetime  lohc-input  \\\n",
       "technology                                                            \n",
       "Ammonia cracker             NaN  1.123945e+06      25.0         NaN   \n",
       "BEV Bus city                NaN  2.224856e+05      12.0         NaN   \n",
       "\n",
       "parameter        methane-input  methanol-input  min_fill_level  naphtha-input  \\\n",
       "technology                                                                      \n",
       "Ammonia cracker            NaN             NaN             NaN            NaN   \n",
       "BEV Bus city               NaN             NaN             NaN            NaN   \n",
       "\n",
       "parameter        nitrogen-input  ore-input  p_nom_ratio  pelletizing cost  \\\n",
       "technology                                                                  \n",
       "Ammonia cracker             NaN        NaN          NaN               NaN   \n",
       "BEV Bus city                NaN        NaN          NaN               NaN   \n",
       "\n",
       "parameter        marginal_cost   capital_cost  \n",
       "technology                                     \n",
       "Ammonia cracker         0.0000  144775.985816  \n",
       "BEV Bus city            0.0952   28012.052635  "
      ]
     },
     "execution_count": 8,
     "metadata": {},
     "output_type": "execute_result"
    }
   ],
   "source": [
    "costs.head(2)"
   ]
  },
  {
   "cell_type": "code",
   "execution_count": 14,
   "metadata": {},
   "outputs": [
    {
     "data": {
      "text/plain": [
       "['Ammonia cracker',\n",
       " 'BEV Bus city',\n",
       " 'BEV Coach',\n",
       " 'BEV Truck Semi-Trailer max 50 tons',\n",
       " 'BEV Truck Solo max 26 tons',\n",
       " 'BEV Truck Trailer max 56 tons',\n",
       " 'Battery electric (passenger cars)',\n",
       " 'Battery electric (trucks)',\n",
       " 'BioSNG',\n",
       " 'BtL',\n",
       " 'CCGT',\n",
       " 'CH4 (g) fill compressor station',\n",
       " 'CH4 (g) pipeline',\n",
       " 'CH4 (g) submarine pipeline',\n",
       " 'CH4 (l) transport ship',\n",
       " 'CH4 evaporation',\n",
       " 'CH4 liquefaction',\n",
       " 'CO2 liquefaction',\n",
       " 'CO2 pipeline',\n",
       " 'CO2 storage tank',\n",
       " 'CO2 submarine pipeline',\n",
       " 'Charging infrastructure fast (purely) battery electric vehicles passenger cars',\n",
       " 'Charging infrastructure fuel cell vehicles passenger cars',\n",
       " 'Charging infrastructure fuel cell vehicles trucks',\n",
       " 'Charging infrastructure slow (purely) battery electric vehicles passenger cars',\n",
       " 'Compressed-Air-Adiabatic-bicharger',\n",
       " 'Compressed-Air-Adiabatic-store',\n",
       " 'Concrete-charger',\n",
       " 'Concrete-discharger',\n",
       " 'Concrete-store',\n",
       " 'Container feeder, ammonia',\n",
       " 'Container feeder, diesel',\n",
       " 'Container feeder, methanol',\n",
       " 'Container, ammonia',\n",
       " 'Container, diesel',\n",
       " 'Container, methanol',\n",
       " 'Diesel Bus city',\n",
       " 'Diesel Coach',\n",
       " 'Diesel Truck Semi-Trailer max 50 tons',\n",
       " 'Diesel Truck Solo max 26 tons',\n",
       " 'Diesel Truck Trailer max 56 tons',\n",
       " 'FCV Bus city',\n",
       " 'FCV Coach',\n",
       " 'FCV Truck Semi-Trailer max 50 tons',\n",
       " 'FCV Truck Solo max 26 tons',\n",
       " 'FCV Truck Trailer max 56 tons',\n",
       " 'FT fuel transport ship',\n",
       " 'Fischer-Tropsch',\n",
       " 'Gasnetz',\n",
       " 'General liquid hydrocarbon storage (crude)',\n",
       " 'General liquid hydrocarbon storage (product)',\n",
       " 'Gravity-Brick-bicharger',\n",
       " 'Gravity-Brick-store',\n",
       " 'Gravity-Water-Aboveground-bicharger',\n",
       " 'Gravity-Water-Aboveground-store',\n",
       " 'Gravity-Water-Underground-bicharger',\n",
       " 'Gravity-Water-Underground-store',\n",
       " 'H2 (g) fill compressor station',\n",
       " 'H2 (g) pipeline',\n",
       " 'H2 (g) pipeline repurposed',\n",
       " 'H2 (g) submarine pipeline',\n",
       " 'H2 (g) submarine pipeline repurposed',\n",
       " 'H2 (l) storage tank',\n",
       " 'H2 (l) transport ship',\n",
       " 'H2 evaporation',\n",
       " 'H2 liquefaction',\n",
       " 'H2 pipeline',\n",
       " 'HVAC overhead',\n",
       " 'HVDC inverter pair',\n",
       " 'HVDC overhead',\n",
       " 'HVDC submarine',\n",
       " 'Haber-Bosch',\n",
       " 'HighT-Molten-Salt-charger',\n",
       " 'HighT-Molten-Salt-discharger',\n",
       " 'HighT-Molten-Salt-store',\n",
       " 'Hydrogen fuel cell (passenger cars)',\n",
       " 'Hydrogen fuel cell (trucks)',\n",
       " 'Hydrogen-charger',\n",
       " 'Hydrogen-discharger',\n",
       " 'Hydrogen-store',\n",
       " 'LNG storage tank',\n",
       " 'LOHC chemical',\n",
       " 'LOHC dehydrogenation',\n",
       " 'LOHC dehydrogenation (small scale)',\n",
       " 'LOHC hydrogenation',\n",
       " 'LOHC loaded DBT storage',\n",
       " 'LOHC transport ship',\n",
       " 'LOHC unloaded DBT storage',\n",
       " 'Lead-Acid-bicharger',\n",
       " 'Lead-Acid-store',\n",
       " 'Liquid fuels ICE (passenger cars)',\n",
       " 'Liquid fuels ICE (trucks)',\n",
       " 'Liquid-Air-charger',\n",
       " 'Liquid-Air-discharger',\n",
       " 'Liquid-Air-store',\n",
       " 'Lithium-Ion-LFP-bicharger',\n",
       " 'Lithium-Ion-LFP-store',\n",
       " 'Lithium-Ion-NMC-bicharger',\n",
       " 'Lithium-Ion-NMC-store',\n",
       " 'LowT-Molten-Salt-charger',\n",
       " 'LowT-Molten-Salt-discharger',\n",
       " 'LowT-Molten-Salt-store',\n",
       " 'MeOH transport ship',\n",
       " 'Methanol steam reforming',\n",
       " 'NH3 (l) storage tank incl. liquefaction',\n",
       " 'NH3 (l) transport ship',\n",
       " 'Ni-Zn-bicharger',\n",
       " 'Ni-Zn-store',\n",
       " 'OCGT',\n",
       " 'PHS',\n",
       " 'Pumped-Heat-charger',\n",
       " 'Pumped-Heat-discharger',\n",
       " 'Pumped-Heat-store',\n",
       " 'Pumped-Storage-Hydro-bicharger',\n",
       " 'Pumped-Storage-Hydro-store',\n",
       " 'SMR',\n",
       " 'SMR CC',\n",
       " 'Sand-charger',\n",
       " 'Sand-discharger',\n",
       " 'Sand-store',\n",
       " 'Steam methane reforming',\n",
       " 'Tank&bulk, diesel',\n",
       " 'Tank&bulk, methanol',\n",
       " 'Tankbulk, ammonia',\n",
       " 'Vanadium-Redox-Flow-bicharger',\n",
       " 'Vanadium-Redox-Flow-store',\n",
       " 'Zn-Air-bicharger',\n",
       " 'Zn-Air-store',\n",
       " 'Zn-Br-Flow-bicharger',\n",
       " 'Zn-Br-Flow-store',\n",
       " 'Zn-Br-Nonflow-bicharger',\n",
       " 'Zn-Br-Nonflow-store',\n",
       " 'air separation unit',\n",
       " 'battery inverter',\n",
       " 'battery storage',\n",
       " 'biogas',\n",
       " 'biogas CC',\n",
       " 'biogas plus hydrogen',\n",
       " 'biogas upgrading',\n",
       " 'biomass',\n",
       " 'biomass CHP',\n",
       " 'biomass CHP capture',\n",
       " 'biomass EOP',\n",
       " 'biomass HOP',\n",
       " 'biomass boiler',\n",
       " 'biomass-to-methanol',\n",
       " 'cement capture',\n",
       " 'central air-sourced heat pump',\n",
       " 'central coal CHP',\n",
       " 'central gas CHP',\n",
       " 'central gas CHP CC',\n",
       " 'central gas boiler',\n",
       " 'central ground-sourced heat pump',\n",
       " 'central hydrogen CHP',\n",
       " 'central resistive heater',\n",
       " 'central solar thermal',\n",
       " 'central solid biomass CHP',\n",
       " 'central solid biomass CHP CC',\n",
       " 'central solid biomass CHP powerboost CC',\n",
       " 'central water tank storage',\n",
       " 'clean water tank storage',\n",
       " 'coal',\n",
       " 'csp-tower',\n",
       " 'csp-tower TES',\n",
       " 'csp-tower power block',\n",
       " 'decentral CHP',\n",
       " 'decentral air-sourced heat pump',\n",
       " 'decentral gas boiler',\n",
       " 'decentral gas boiler connection',\n",
       " 'decentral ground-sourced heat pump',\n",
       " 'decentral oil boiler',\n",
       " 'decentral resistive heater',\n",
       " 'decentral solar thermal',\n",
       " 'decentral water tank storage',\n",
       " 'digestible biomass',\n",
       " 'digestible biomass to hydrogen',\n",
       " 'direct air capture',\n",
       " 'direct firing gas',\n",
       " 'direct firing gas CC',\n",
       " 'direct firing solid fuels',\n",
       " 'direct firing solid fuels CC',\n",
       " 'direct iron reduction furnace',\n",
       " 'dry bulk carrier Capesize',\n",
       " 'electric arc furnace',\n",
       " 'electric boiler steam',\n",
       " 'electric steam cracker',\n",
       " 'electricity distribution grid',\n",
       " 'electricity grid connection',\n",
       " 'electrobiofuels',\n",
       " 'electrolysis',\n",
       " 'fuel cell',\n",
       " 'gas',\n",
       " 'gas boiler steam',\n",
       " 'gas storage',\n",
       " 'gas storage charger',\n",
       " 'gas storage discharger',\n",
       " 'geothermal',\n",
       " 'helmeth',\n",
       " 'home battery inverter',\n",
       " 'home battery storage',\n",
       " 'hydro',\n",
       " 'hydrogen storage compressor',\n",
       " 'hydrogen storage tank type 1',\n",
       " 'hydrogen storage tank type 1 including compressor',\n",
       " 'hydrogen storage underground',\n",
       " 'industrial heat pump high temperature',\n",
       " 'industrial heat pump medium temperature',\n",
       " 'iron ore DRI-ready',\n",
       " 'lignite',\n",
       " 'methanation',\n",
       " 'methane storage tank incl. compressor',\n",
       " 'methanol',\n",
       " 'methanol-to-kerosene',\n",
       " 'methanol-to-olefins/aromatics',\n",
       " 'methanolisation',\n",
       " 'micro CHP',\n",
       " 'nuclear',\n",
       " 'offwind',\n",
       " 'offwind-ac-connection-submarine',\n",
       " 'offwind-ac-connection-underground',\n",
       " 'offwind-ac-station',\n",
       " 'offwind-dc-connection-submarine',\n",
       " 'offwind-dc-connection-underground',\n",
       " 'offwind-dc-station',\n",
       " 'offwind-float',\n",
       " 'offwind-float-connection-submarine',\n",
       " 'offwind-float-connection-underground',\n",
       " 'offwind-float-station',\n",
       " 'oil',\n",
       " 'onwind',\n",
       " 'organic rankine cycle',\n",
       " 'ror',\n",
       " 'seawater RO desalination',\n",
       " 'seawater desalination',\n",
       " 'shipping fuel methanol',\n",
       " 'solar',\n",
       " 'solar-rooftop',\n",
       " 'solar-rooftop commercial',\n",
       " 'solar-rooftop residential',\n",
       " 'solar-utility',\n",
       " 'solar-utility single-axis tracking',\n",
       " 'solid biomass',\n",
       " 'solid biomass boiler steam',\n",
       " 'solid biomass boiler steam CC',\n",
       " 'solid biomass to hydrogen',\n",
       " 'uranium',\n",
       " 'waste CHP',\n",
       " 'waste CHP CC',\n",
       " 'water tank charger',\n",
       " 'water tank discharger']"
      ]
     },
     "execution_count": 14,
     "metadata": {},
     "output_type": "execute_result"
    }
   ],
   "source": [
    "costs.index.get_level_values('technology').unique().to_list()"
   ]
  },
  {
   "cell_type": "code",
   "execution_count": null,
   "metadata": {},
   "outputs": [],
   "source": []
  },
  {
   "cell_type": "markdown",
   "metadata": {},
   "source": [
    "## Retrieve Time Series Data"
   ]
  },
  {
   "cell_type": "code",
   "execution_count": 8,
   "metadata": {},
   "outputs": [],
   "source": [
    "pjm_load = pd.read_csv(\"../data/pjm_demand.csv\", usecols=['Interval End','CE'], parse_dates=True, index_col='Interval End')"
   ]
  },
  {
   "cell_type": "code",
   "execution_count": 9,
   "metadata": {},
   "outputs": [
    {
     "data": {
      "text/html": [
       "<div>\n",
       "<style scoped>\n",
       "    .dataframe tbody tr th:only-of-type {\n",
       "        vertical-align: middle;\n",
       "    }\n",
       "\n",
       "    .dataframe tbody tr th {\n",
       "        vertical-align: top;\n",
       "    }\n",
       "\n",
       "    .dataframe thead th {\n",
       "        text-align: right;\n",
       "    }\n",
       "</style>\n",
       "<table border=\"1\" class=\"dataframe\">\n",
       "  <thead>\n",
       "    <tr style=\"text-align: right;\">\n",
       "      <th></th>\n",
       "      <th>CE</th>\n",
       "    </tr>\n",
       "    <tr>\n",
       "      <th>Interval End</th>\n",
       "      <th></th>\n",
       "    </tr>\n",
       "  </thead>\n",
       "  <tbody>\n",
       "    <tr>\n",
       "      <th>2019-01-01 00:00:00+00:00</th>\n",
       "      <td>11593.0</td>\n",
       "    </tr>\n",
       "    <tr>\n",
       "      <th>2019-01-01 01:00:00+00:00</th>\n",
       "      <td>11258.0</td>\n",
       "    </tr>\n",
       "  </tbody>\n",
       "</table>\n",
       "</div>"
      ],
      "text/plain": [
       "                                CE\n",
       "Interval End                      \n",
       "2019-01-01 00:00:00+00:00  11593.0\n",
       "2019-01-01 01:00:00+00:00  11258.0"
      ]
     },
     "execution_count": 9,
     "metadata": {},
     "output_type": "execute_result"
    }
   ],
   "source": [
    "pjm_load.head(2)"
   ]
  },
  {
   "cell_type": "code",
   "execution_count": 10,
   "metadata": {},
   "outputs": [
    {
     "data": {
      "text/html": [
       "<div>\n",
       "<style scoped>\n",
       "    .dataframe tbody tr th:only-of-type {\n",
       "        vertical-align: middle;\n",
       "    }\n",
       "\n",
       "    .dataframe tbody tr th {\n",
       "        vertical-align: top;\n",
       "    }\n",
       "\n",
       "    .dataframe thead th {\n",
       "        text-align: right;\n",
       "    }\n",
       "</style>\n",
       "<table border=\"1\" class=\"dataframe\">\n",
       "  <thead>\n",
       "    <tr style=\"text-align: right;\">\n",
       "      <th></th>\n",
       "      <th>0004</th>\n",
       "    </tr>\n",
       "    <tr>\n",
       "      <th>Interval End</th>\n",
       "      <th></th>\n",
       "    </tr>\n",
       "  </thead>\n",
       "  <tbody>\n",
       "    <tr>\n",
       "      <th>2019-01-01 00:00:00+00:00</th>\n",
       "      <td>5406.0</td>\n",
       "    </tr>\n",
       "    <tr>\n",
       "      <th>2019-01-01 01:00:00+00:00</th>\n",
       "      <td>5289.0</td>\n",
       "    </tr>\n",
       "  </tbody>\n",
       "</table>\n",
       "</div>"
      ],
      "text/plain": [
       "                             0004\n",
       "Interval End                     \n",
       "2019-01-01 00:00:00+00:00  5406.0\n",
       "2019-01-01 01:00:00+00:00  5289.0"
      ]
     },
     "execution_count": 10,
     "metadata": {},
     "output_type": "execute_result"
    }
   ],
   "source": [
    "miso_load = pd.read_csv('../data/miso_demand.csv', usecols=['Interval End','0004'], parse_dates=True, index_col='Interval End')\n",
    "miso_load.head(2)"
   ]
  },
  {
   "cell_type": "code",
   "execution_count": 11,
   "metadata": {},
   "outputs": [],
   "source": [
    "load_year = 2022\n",
    "\n",
    "pjm_2022 = pjm_load.loc[str(load_year)]\n",
    "miso_2022 = miso_load.loc[str(load_year)]"
   ]
  },
  {
   "cell_type": "markdown",
   "metadata": {},
   "source": [
    "### Upload the solar and wind data"
   ]
  },
  {
   "cell_type": "code",
   "execution_count": 12,
   "metadata": {},
   "outputs": [],
   "source": [
    "pjm_wind = pd.read_csv(\"../data/nrel_wtk_data/ComEd_wind_2013.csv\")\n",
    "miso_wind = pd.read_csv(\"../data/nrel_wtk_data/MISO-Z4_wind_2013.csv\")\n",
    "pjm_solar = pd.read_csv(\"../data/nrel_psm_data/ComEd_solar_2019.csv\")\n",
    "miso_solar = pd.read_csv(\"../data/nrel_psm_data/MISO-Z4_solar_2019.csv\")"
   ]
  },
  {
   "cell_type": "markdown",
   "metadata": {},
   "source": [
    "## Process the solar and wind data\n",
    "\n",
    "Since these data represent resources, rather than energy production, we should convert them to curves that would represent energy production.\n",
    "Secondly, these curves should be normalized to a maximum value of unity (i.e., the $L_{\\infty}$-norm), because PyPSA will multiply the power production by the corresponding values in `n.generators.p_nom_opt` (with units of power). \n",
    "\n",
    "### Solar\n",
    "\n",
    "Technically, the solar production for a fixed-tilt solar panel is given by \n",
    "\n",
    "$\\text{P}_{\\text{pv}} = \\text{P}_\\text{GHI}\\tau_{\\text{pv}}\\eta_{\\text{ref}}\\text{A}\\left[1-\\gamma(T-25)\\right]$\n",
    "\n",
    "Where \n",
    "\n",
    "- $\\text{P}_\\text{GHI}$ is the total incident power (i.e., global horizontal irradiance) in units of $\\left[\\frac{\\text{W}}{\\text{m}^2}\\right]$. \n",
    "- $\\tau$ is the \"transmittance of the PV module's outside layer\",\n",
    "- $\\gamma$ is the \"temperature coefficient\",\n",
    "- $\\text{A}$ is the area covered by the solar panels,\n",
    "- $\\eta$ is the PV module efficiency,\n",
    "- $\\text{T}$ is the temperature (in $^\\circ\\text{C}$)\",\n",
    "\n",
    "However, if we assume that temperature has no effect on panel performance, then the output power and incident power are linearly related. Which means the _shape_ of the power production is identical to the _shape_ of the insolation and therefore we can directly normalize to get hourly capacity factor.\n",
    "\n",
    "### Wind\n",
    "\n",
    "Wind, however, has a more complex relationship with its energy source. The output from a wind turbine is given by\n",
    "\n",
    "$\\text{P}_{\\text{turbine}} = \\frac{1}{2}\\rho\\text{A}v^3$\n",
    "\n",
    "Additionally, wind turbines have various operating regimes.\n",
    "- Cut-in speed, below which no power is produced.\n",
    "- Rated speed, which follows the $v^3$ relationship.\n",
    "- Cut-out speed, above which no power is produced.\n",
    "\n",
    "So, we need data from NREL's ATB on these turbine parameters.\n",
    "\n",
    "\n",
    "#### Determine the average wind speed for each zone"
   ]
  },
  {
   "cell_type": "code",
   "execution_count": 13,
   "metadata": {},
   "outputs": [
    {
     "data": {
      "text/html": [
       "<div>\n",
       "<style scoped>\n",
       "    .dataframe tbody tr th:only-of-type {\n",
       "        vertical-align: middle;\n",
       "    }\n",
       "\n",
       "    .dataframe tbody tr th {\n",
       "        vertical-align: top;\n",
       "    }\n",
       "\n",
       "    .dataframe thead th {\n",
       "        text-align: right;\n",
       "    }\n",
       "</style>\n",
       "<table border=\"1\" class=\"dataframe\">\n",
       "  <thead>\n",
       "    <tr style=\"text-align: right;\">\n",
       "      <th></th>\n",
       "      <th>wind_speed_80m</th>\n",
       "      <th>wind_speed_100m</th>\n",
       "    </tr>\n",
       "  </thead>\n",
       "  <tbody>\n",
       "    <tr>\n",
       "      <th>count</th>\n",
       "      <td>8760.000000</td>\n",
       "      <td>8760.000000</td>\n",
       "    </tr>\n",
       "    <tr>\n",
       "      <th>mean</th>\n",
       "      <td>6.529581</td>\n",
       "      <td>6.959604</td>\n",
       "    </tr>\n",
       "    <tr>\n",
       "      <th>std</th>\n",
       "      <td>2.894817</td>\n",
       "      <td>2.959452</td>\n",
       "    </tr>\n",
       "    <tr>\n",
       "      <th>min</th>\n",
       "      <td>0.050000</td>\n",
       "      <td>0.040000</td>\n",
       "    </tr>\n",
       "    <tr>\n",
       "      <th>25%</th>\n",
       "      <td>4.540000</td>\n",
       "      <td>4.770000</td>\n",
       "    </tr>\n",
       "    <tr>\n",
       "      <th>50%</th>\n",
       "      <td>6.560000</td>\n",
       "      <td>6.990000</td>\n",
       "    </tr>\n",
       "    <tr>\n",
       "      <th>75%</th>\n",
       "      <td>8.382500</td>\n",
       "      <td>9.020000</td>\n",
       "    </tr>\n",
       "    <tr>\n",
       "      <th>max</th>\n",
       "      <td>100.000000</td>\n",
       "      <td>18.820000</td>\n",
       "    </tr>\n",
       "  </tbody>\n",
       "</table>\n",
       "</div>"
      ],
      "text/plain": [
       "       wind_speed_80m  wind_speed_100m\n",
       "count     8760.000000      8760.000000\n",
       "mean         6.529581         6.959604\n",
       "std          2.894817         2.959452\n",
       "min          0.050000         0.040000\n",
       "25%          4.540000         4.770000\n",
       "50%          6.560000         6.990000\n",
       "75%          8.382500         9.020000\n",
       "max        100.000000        18.820000"
      ]
     },
     "execution_count": 13,
     "metadata": {},
     "output_type": "execute_result"
    }
   ],
   "source": [
    "pjm_wind.describe()"
   ]
  },
  {
   "cell_type": "code",
   "execution_count": 14,
   "metadata": {},
   "outputs": [
    {
     "data": {
      "text/html": [
       "<div>\n",
       "<style scoped>\n",
       "    .dataframe tbody tr th:only-of-type {\n",
       "        vertical-align: middle;\n",
       "    }\n",
       "\n",
       "    .dataframe tbody tr th {\n",
       "        vertical-align: top;\n",
       "    }\n",
       "\n",
       "    .dataframe thead th {\n",
       "        text-align: right;\n",
       "    }\n",
       "</style>\n",
       "<table border=\"1\" class=\"dataframe\">\n",
       "  <thead>\n",
       "    <tr style=\"text-align: right;\">\n",
       "      <th></th>\n",
       "      <th>wind_speed_80m</th>\n",
       "      <th>wind_speed_100m</th>\n",
       "    </tr>\n",
       "  </thead>\n",
       "  <tbody>\n",
       "    <tr>\n",
       "      <th>count</th>\n",
       "      <td>8760.000000</td>\n",
       "      <td>8760.000000</td>\n",
       "    </tr>\n",
       "    <tr>\n",
       "      <th>mean</th>\n",
       "      <td>6.565737</td>\n",
       "      <td>6.994201</td>\n",
       "    </tr>\n",
       "    <tr>\n",
       "      <th>std</th>\n",
       "      <td>2.875684</td>\n",
       "      <td>3.147515</td>\n",
       "    </tr>\n",
       "    <tr>\n",
       "      <th>min</th>\n",
       "      <td>0.180000</td>\n",
       "      <td>0.160000</td>\n",
       "    </tr>\n",
       "    <tr>\n",
       "      <th>25%</th>\n",
       "      <td>4.457500</td>\n",
       "      <td>4.650000</td>\n",
       "    </tr>\n",
       "    <tr>\n",
       "      <th>50%</th>\n",
       "      <td>6.600000</td>\n",
       "      <td>6.930000</td>\n",
       "    </tr>\n",
       "    <tr>\n",
       "      <th>75%</th>\n",
       "      <td>8.590000</td>\n",
       "      <td>9.230000</td>\n",
       "    </tr>\n",
       "    <tr>\n",
       "      <th>max</th>\n",
       "      <td>20.330000</td>\n",
       "      <td>21.320000</td>\n",
       "    </tr>\n",
       "  </tbody>\n",
       "</table>\n",
       "</div>"
      ],
      "text/plain": [
       "       wind_speed_80m  wind_speed_100m\n",
       "count     8760.000000      8760.000000\n",
       "mean         6.565737         6.994201\n",
       "std          2.875684         3.147515\n",
       "min          0.180000         0.160000\n",
       "25%          4.457500         4.650000\n",
       "50%          6.600000         6.930000\n",
       "75%          8.590000         9.230000\n",
       "max         20.330000        21.320000"
      ]
     },
     "execution_count": 14,
     "metadata": {},
     "output_type": "execute_result"
    }
   ],
   "source": [
    "miso_wind.describe()"
   ]
  },
  {
   "cell_type": "markdown",
   "metadata": {},
   "source": [
    "#### Get turbine data\n",
    "\n",
    "For now, we will use the following wind turbine assumptions, based on the [GE 2.75-103 wind turbine](https://en.wind-turbine-models.com/turbines/747-ge-general-electric-ge-2.75-103)."
   ]
  },
  {
   "cell_type": "code",
   "execution_count": 15,
   "metadata": {},
   "outputs": [],
   "source": [
    "from unyt import m, s, MW, W, kg"
   ]
  },
  {
   "cell_type": "code",
   "execution_count": 16,
   "metadata": {},
   "outputs": [],
   "source": [
    "cut_in = 3.0*m/s\n",
    "cut_out = 25.0*m/s\n",
    "rated = 13.0*m/s\n",
    "diameter = 103*m\n",
    "rated_power = 2.75*MW\n",
    "air_density = 1.225*kg/m**3"
   ]
  },
  {
   "cell_type": "code",
   "execution_count": 17,
   "metadata": {},
   "outputs": [],
   "source": [
    "power = lambda v: np.min((((0.5*np.pi/4)*(air_density*diameter**2)*v**3).to(MW), rated_power))*MW"
   ]
  },
  {
   "cell_type": "code",
   "execution_count": 18,
   "metadata": {},
   "outputs": [
    {
     "data": {
      "text/plain": [
       "unyt_quantity(2.61300587, 'MW')"
      ]
     },
     "execution_count": 18,
     "metadata": {},
     "output_type": "execute_result"
    }
   ],
   "source": [
    "power(8*m/s)"
   ]
  },
  {
   "cell_type": "code",
   "execution_count": 19,
   "metadata": {},
   "outputs": [],
   "source": [
    "def turbine_power(v):\n",
    "    \"\"\"\n",
    "    Calculates the power output of a wind turbine.\n",
    "    \n",
    "    Parameters\n",
    "    ----------\n",
    "    v : float\n",
    "        Wind speed in meters per second (m/s).\n",
    "    Returns\n",
    "    -------\n",
    "    power : float\n",
    "        Power in megawatts (MW).\n",
    "    \"\"\"\n",
    "    \n",
    "    wind_speed = v*m/s\n",
    "    \n",
    "    if wind_speed < cut_in:\n",
    "        return 0*MW\n",
    "    elif (wind_speed > rated) and (wind_speed < cut_out):\n",
    "        return rated_power\n",
    "    elif wind_speed >= cut_out:\n",
    "        return 0*MW\n",
    "    elif wind_speed >= cut_in:\n",
    "        return power(wind_speed)\n",
    "    \n",
    "    "
   ]
  },
  {
   "cell_type": "code",
   "execution_count": 20,
   "metadata": {},
   "outputs": [],
   "source": [
    "miso_wind = miso_wind.assign(power_80m=miso_wind['wind_speed_80m'].apply(turbine_power),\n",
    "                 power_100m=miso_wind['wind_speed_100m'].apply(turbine_power))\n",
    "pjm_wind = pjm_wind.assign(power_80m=pjm_wind['wind_speed_80m'].apply(turbine_power),\n",
    "                 power_100m=pjm_wind['wind_speed_100m'].apply(turbine_power))"
   ]
  },
  {
   "cell_type": "code",
   "execution_count": 21,
   "metadata": {},
   "outputs": [
    {
     "data": {
      "text/plain": [
       "<Axes: xlabel='wind_speed_80m'>"
      ]
     },
     "execution_count": 21,
     "metadata": {},
     "output_type": "execute_result"
    },
    {
     "data": {
      "image/png": "[encoded data removed]",
      "text/plain": [
       "<Figure size 640x480 with 1 Axes>"
      ]
     },
     "metadata": {},
     "output_type": "display_data"
    }
   ],
   "source": [
    "fig, ax = plt.subplots()\n",
    "\n",
    "miso_wind.sort_values(by='wind_speed_80m').plot(ax=ax, x='wind_speed_80m',y='power_80m')"
   ]
  },
  {
   "cell_type": "markdown",
   "metadata": {},
   "source": [
    "#### Normalize the Solar and Wind data"
   ]
  },
  {
   "cell_type": "code",
   "execution_count": 22,
   "metadata": {},
   "outputs": [],
   "source": [
    "pjm_wind[['power_80m','power_100m']] = pjm_wind[['power_80m','power_100m']].div(pjm_wind[['power_80m','power_100m']].max(), axis=1)\n",
    "miso_wind[['power_80m','power_100m']]= miso_wind[['power_80m','power_100m']].div(miso_wind[['power_80m','power_100m']].max(), axis=1)\n",
    "pjm_solar['GHI_norm'] = pjm_solar['GHI']/pjm_solar['GHI'].max()\n",
    "miso_solar['GHI_norm'] = miso_solar['GHI']/miso_solar['GHI'].max()"
   ]
  },
  {
   "cell_type": "code",
   "execution_count": 23,
   "metadata": {},
   "outputs": [
    {
     "data": {
      "text/plain": [
       "DatetimeIndex(['2022-01-01 00:00:00+00:00', '2022-01-01 01:00:00+00:00',\n",
       "               '2022-01-01 02:00:00+00:00', '2022-01-01 03:00:00+00:00',\n",
       "               '2022-01-01 04:00:00+00:00', '2022-01-01 05:00:00+00:00',\n",
       "               '2022-01-01 06:00:00+00:00', '2022-01-01 07:00:00+00:00',\n",
       "               '2022-01-01 08:00:00+00:00', '2022-01-01 09:00:00+00:00',\n",
       "               ...\n",
       "               '2022-12-31 14:00:00+00:00', '2022-12-31 15:00:00+00:00',\n",
       "               '2022-12-31 16:00:00+00:00', '2022-12-31 17:00:00+00:00',\n",
       "               '2022-12-31 18:00:00+00:00', '2022-12-31 19:00:00+00:00',\n",
       "               '2022-12-31 20:00:00+00:00', '2022-12-31 21:00:00+00:00',\n",
       "               '2022-12-31 22:00:00+00:00', '2022-12-31 23:00:00+00:00'],\n",
       "              dtype='datetime64[ns, UTC]', length=8760, freq='h')"
      ]
     },
     "execution_count": 23,
     "metadata": {},
     "output_type": "execute_result"
    }
   ],
   "source": [
    "timestamps = pd.date_range(\"2022-01-01\",\"2023-01-01\", freq='1h', inclusive='left', tz='utc')\n",
    "timestamps"
   ]
  },
  {
   "cell_type": "code",
   "execution_count": 24,
   "metadata": {},
   "outputs": [
    {
     "name": "stderr",
     "output_type": "stream",
     "text": [
      "100%|██████████| 4/4 [00:00<00:00, 1538.35it/s]\n"
     ]
    }
   ],
   "source": [
    "for frame in tqdm([pjm_wind, miso_wind, pjm_solar, miso_solar]):\n",
    "    frame.set_index(timestamps, inplace=True)"
   ]
  },
  {
   "cell_type": "markdown",
   "metadata": {},
   "source": [
    "### Update the resolution for simplicity"
   ]
  },
  {
   "cell_type": "code",
   "execution_count": 25,
   "metadata": {},
   "outputs": [],
   "source": [
    "resolution = 4\n",
    "pjm_2022 = pjm_2022.resample(f\"{resolution}h\").mean()\n",
    "miso_2022 = miso_2022.resample(f\"{resolution}h\").mean()\n",
    "pjm_solar = pjm_solar.resample(f\"{resolution}h\").mean()\n",
    "miso_solar = miso_solar.resample(f\"{resolution}h\").mean()\n",
    "pjm_wind = pjm_wind.resample(f\"{resolution}h\").mean()\n",
    "miso_wind = miso_wind.resample(f\"{resolution}h\").mean()"
   ]
  },
  {
   "cell_type": "markdown",
   "metadata": {},
   "source": [
    "## Capacity Expansion Model\n",
    "\n",
    "### Model Initialization"
   ]
  },
  {
   "cell_type": "code",
   "execution_count": 26,
   "metadata": {},
   "outputs": [],
   "source": [
    "n = pypsa.Network()"
   ]
  },
  {
   "cell_type": "markdown",
   "metadata": {},
   "source": [
    "Add two buses -- PJM ComEd and Miso Zone 4"
   ]
  },
  {
   "cell_type": "code",
   "execution_count": 27,
   "metadata": {},
   "outputs": [],
   "source": [
    "n.add(\"Bus\", \"MISO-Z4\")\n",
    "n.add(\"Bus\", \"ComEd\")"
   ]
  },
  {
   "cell_type": "code",
   "execution_count": 28,
   "metadata": {},
   "outputs": [
    {
     "data": {
      "text/plain": [
       "Index(['MISO-Z4', 'ComEd'], dtype='object', name='Bus')"
      ]
     },
     "execution_count": 28,
     "metadata": {},
     "output_type": "execute_result"
    }
   ],
   "source": [
    "n.buses.index"
   ]
  },
  {
   "cell_type": "code",
   "execution_count": 29,
   "metadata": {},
   "outputs": [],
   "source": [
    "n.set_snapshots(pjm_2022.index)"
   ]
  },
  {
   "cell_type": "code",
   "execution_count": 30,
   "metadata": {},
   "outputs": [
    {
     "data": {
      "text/plain": [
       "DatetimeIndex(['2022-01-01 00:00:00+00:00', '2022-01-01 04:00:00+00:00',\n",
       "               '2022-01-01 08:00:00+00:00', '2022-01-01 12:00:00+00:00',\n",
       "               '2022-01-01 16:00:00+00:00', '2022-01-01 20:00:00+00:00',\n",
       "               '2022-01-02 00:00:00+00:00', '2022-01-02 04:00:00+00:00',\n",
       "               '2022-01-02 08:00:00+00:00', '2022-01-02 12:00:00+00:00',\n",
       "               ...\n",
       "               '2022-12-30 08:00:00+00:00', '2022-12-30 12:00:00+00:00',\n",
       "               '2022-12-30 16:00:00+00:00', '2022-12-30 20:00:00+00:00',\n",
       "               '2022-12-31 00:00:00+00:00', '2022-12-31 04:00:00+00:00',\n",
       "               '2022-12-31 08:00:00+00:00', '2022-12-31 12:00:00+00:00',\n",
       "               '2022-12-31 16:00:00+00:00', '2022-12-31 20:00:00+00:00'],\n",
       "              dtype='datetime64[ns, UTC]', name='snapshot', length=2190, freq='4h')"
      ]
     },
     "execution_count": 30,
     "metadata": {},
     "output_type": "execute_result"
    }
   ],
   "source": [
    "n.snapshots"
   ]
  },
  {
   "cell_type": "code",
   "execution_count": 31,
   "metadata": {},
   "outputs": [],
   "source": [
    "n.snapshot_weightings.loc[:,:] = resolution  # how many hours each timeslice represents, based on the temporal resolution"
   ]
  },
  {
   "cell_type": "code",
   "execution_count": 32,
   "metadata": {},
   "outputs": [
    {
     "data": {
      "text/plain": [
       "Index(['onwind', 'nuclear', 'solar', 'OCGT', 'CCGT', 'coal',\n",
       "       'hydrogen storage underground', 'battery storage'],\n",
       "      dtype='object')"
      ]
     },
     "execution_count": 32,
     "metadata": {},
     "output_type": "execute_result"
    }
   ],
   "source": [
    "carriers = [\n",
    "    \"onwind\",\n",
    "    # \"offwind\",\n",
    "    \"nuclear\",\n",
    "    \"solar\",\n",
    "    \"OCGT\",\n",
    "    \"CCGT\",\n",
    "    \"coal\",\n",
    "    \"hydrogen storage underground\",\n",
    "    \"battery storage\"\n",
    "]\n",
    "\n",
    "colors = {\"onwind\":'dodgerblue',\n",
    "          \"offwind\":\"aquamarine\",\n",
    "          \"nuclear\":\"green\",\n",
    "          \"solar\":\"gold\",\n",
    "          \"OCGT\":\"indianred\",\n",
    "          \"CCGT\":\"orange\",\n",
    "          \"coal\":\"brown\",\n",
    "          \"hydrogen storage underground\":\"magenta\",\n",
    "          \"battery storage\":\"yellowgreen\"}\n",
    "\n",
    "n.madd(\n",
    "    \"Carrier\",\n",
    "    carriers,\n",
    "    color=[colors[c] for c in carriers],\n",
    "    co2_emissions=[costs.at[c, \"CO2 intensity\"] for c in carriers],\n",
    ")"
   ]
  },
  {
   "cell_type": "markdown",
   "metadata": {},
   "source": [
    "Add the load to the buses"
   ]
  },
  {
   "cell_type": "code",
   "execution_count": 33,
   "metadata": {},
   "outputs": [],
   "source": [
    "n.add(\n",
    "    \"Load\",\n",
    "    \"pjm_load\",\n",
    "    bus='ComEd',\n",
    "    p_set = pjm_2022['CE']\n",
    ")\n",
    "\n",
    "n.add(\n",
    "    \"Load\",\n",
    "    \"miso_load\",\n",
    "    bus='MISO-Z4',\n",
    "    p_set = miso_2022['0004']\n",
    ")"
   ]
  },
  {
   "cell_type": "code",
   "execution_count": 34,
   "metadata": {},
   "outputs": [
    {
     "data": {
      "text/plain": [
       "<Axes: xlabel='snapshot', ylabel='MW'>"
      ]
     },
     "execution_count": 34,
     "metadata": {},
     "output_type": "execute_result"
    },
    {
     "data": {
      "image/png": "[encoded data removed]",
      "text/plain": [
       "<Figure size 640x480 with 1 Axes>"
      ]
     },
     "metadata": {},
     "output_type": "display_data"
    }
   ],
   "source": [
    "n.loads_t.p_set.plot(ylabel='MW')"
   ]
  },
  {
   "cell_type": "markdown",
   "metadata": {},
   "source": [
    "## Adding generators to the model"
   ]
  },
  {
   "cell_type": "code",
   "execution_count": 35,
   "metadata": {},
   "outputs": [],
   "source": [
    "buses = ['ComEd','MISO-Z4']\n",
    "for tech in ['nuclear','OCGT','CCGT','coal']:\n",
    "    n.madd(\n",
    "        \"Generator\",\n",
    "        buses,\n",
    "        suffix=f\" {tech}\",\n",
    "        bus=buses,\n",
    "        carrier=tech,\n",
    "        capital_cost=costs.at[tech, \"capital_cost\"],\n",
    "        marginal_cost=costs.at[tech, \"marginal_cost\"],\n",
    "        efficiency=costs.at[tech, \"efficiency\"],\n",
    "        p_nom_extendable=True,\n",
    "    )"
   ]
  },
  {
   "cell_type": "code",
   "execution_count": 36,
   "metadata": {},
   "outputs": [],
   "source": [
    "for tech in ['onwind','solar']:\n",
    "    for bus in buses:\n",
    "        if (bus == 'ComEd') and (tech=='solar'):\n",
    "            ts = pjm_solar['GHI_norm']\n",
    "        elif (bus == 'ComEd') and (tech=='onwind'):\n",
    "            ts = pjm_wind['power_80m']\n",
    "        elif (bus == 'MISO-Z4') and (tech=='solar'):\n",
    "            ts = miso_solar['GHI_norm']\n",
    "        elif (bus == 'MISO-Z4') and (tech=='onwind'):\n",
    "            ts = miso_wind['power_80m']\n",
    "        n.add(\n",
    "            class_name = \"Generator\",\n",
    "            name = f\"{bus} {tech}\",\n",
    "            bus=bus,\n",
    "            carrier=tech,\n",
    "            p_max_pu = ts,\n",
    "            capital_cost=costs.at[tech, \"capital_cost\"],\n",
    "            marginal_cost=costs.at[tech, \"marginal_cost\"],\n",
    "            efficiency=costs.at[tech, \"efficiency\"],\n",
    "            p_nom_extendable=True,\n",
    "        )"
   ]
  },
  {
   "cell_type": "code",
   "execution_count": 37,
   "metadata": {},
   "outputs": [
    {
     "data": {
      "text/plain": [
       "<Axes: xlabel='snapshot', ylabel='CF'>"
      ]
     },
     "execution_count": 37,
     "metadata": {},
     "output_type": "execute_result"
    },
    {
     "data": {
      "image/png": "[encoded data removed]",
      "text/plain": [
       "<Figure size 600x200 with 1 Axes>"
      ]
     },
     "metadata": {},
     "output_type": "display_data"
    }
   ],
   "source": [
    "n.generators_t.p_max_pu.plot(figsize=(6, 2), ylabel=\"CF\")"
   ]
  },
  {
   "cell_type": "code",
   "execution_count": 38,
   "metadata": {},
   "outputs": [
    {
     "name": "stderr",
     "output_type": "stream",
     "text": [
      "c:\\Users\\sdotson\\AppData\\Local\\miniforge3\\envs\\pypsa-illinois\\lib\\site-packages\\linopy\\common.py:133: UserWarning:\n",
      "\n",
      "coords for dimension(s) ['snapshot'] is not aligned with the pandas object. Previously, the indexes of the pandas were ignored and overwritten in these cases. Now, the pandas object's coordinates are taken considered for alignment.\n",
      "\n",
      "INFO:linopy.model: Solve problem using Highs solver\n",
      "INFO:linopy.io:Writing objective.\n",
      "Writing constraints.: 100%|\u001b[38;2;128;191;255m██████████\u001b[0m| 5/5 [00:00<00:00, 28.16it/s]\n",
      "Writing continuous variables.: 100%|\u001b[38;2;128;191;255m██████████\u001b[0m| 2/2 [00:00<00:00, 59.43it/s]\n",
      "INFO:linopy.io: Writing time: 0.25s\n",
      "INFO:linopy.solvers:Log file at C:\\Users\\sdotson\\AppData\\Local\\Temp\\highs.log.\n",
      "INFO:linopy.constants: Optimization successful: \n",
      "Status: ok\n",
      "Termination condition: optimal\n",
      "Solution: 26292 primals, 56952 duals\n",
      "Objective: 6.69e+09\n",
      "Solver model: available\n",
      "Solver message: optimal\n",
      "\n",
      "c:\\Users\\sdotson\\AppData\\Local\\miniforge3\\envs\\pypsa-illinois\\lib\\site-packages\\pypsa\\optimization\\optimize.py:357: FutureWarning:\n",
      "\n",
      "A value is trying to be set on a copy of a DataFrame or Series through chained assignment using an inplace method.\n",
      "The behavior will change in pandas 3.0. This inplace method will never work because the intermediate object on which we are setting values always behaves as a copy.\n",
      "\n",
      "For example, when doing 'df[col].method(value, inplace=True)', try using 'df.method({col: value}, inplace=True)' or df[col] = df[col].method(value) instead, to perform the operation inplace on the original object.\n",
      "\n",
      "\n",
      "\n",
      "INFO:pypsa.optimization.optimize:The shadow-prices of the constraints Generator-ext-p-lower, Generator-ext-p-upper were not assigned to the network.\n"
     ]
    },
    {
     "data": {
      "text/plain": [
       "('ok', 'optimal')"
      ]
     },
     "execution_count": 38,
     "metadata": {},
     "output_type": "execute_result"
    }
   ],
   "source": [
    "n.optimize(solver_name='highs')"
   ]
  },
  {
   "cell_type": "code",
   "execution_count": 39,
   "metadata": {},
   "outputs": [],
   "source": [
    "def plot_dispatch(n, time=\"2022-07\"):\n",
    "    p_by_carrier = n.generators_t.p.groupby(n.generators.carrier, axis=1).sum().div(1e3)\n",
    "\n",
    "    if not n.storage_units.empty:\n",
    "        sto = n.storage_units_t.p.T.groupby(n.storage_units.carrier).sum().T.div(1e3)\n",
    "        p_by_carrier = pd.concat([p_by_carrier, sto], axis=1)\n",
    "\n",
    "    fig, ax = plt.subplots(figsize=(6, 3))\n",
    "\n",
    "    color = p_by_carrier.columns.map(n.carriers.color)\n",
    "\n",
    "    p_by_carrier.where(p_by_carrier > 0).loc[time].plot.area(\n",
    "        ax=ax,\n",
    "        linewidth=0,\n",
    "        color=color,\n",
    "    )\n",
    "\n",
    "    charge = p_by_carrier.where(p_by_carrier < 0).dropna(how=\"all\", axis=1).loc[time]\n",
    "\n",
    "    if not charge.empty:\n",
    "        charge.plot.area(\n",
    "            ax=ax,\n",
    "            linewidth=0,\n",
    "            color=charge.columns.map(n.carriers.color),\n",
    "        )\n",
    "\n",
    "    n.loads_t.p_set.sum(axis=1).loc[time].div(1e3).plot(ax=ax, c=\"k\")\n",
    "\n",
    "    plt.legend(loc=(1.05, 0))\n",
    "    ax.set_ylabel(\"GW\")\n",
    "    ax.set_ylim(n.generators_t.p.min().min(), n.loads_t.p_set.sum(axis=1).max()/1e3+2.5)"
   ]
  },
  {
   "cell_type": "code",
   "execution_count": 40,
   "metadata": {},
   "outputs": [
    {
     "name": "stderr",
     "output_type": "stream",
     "text": [
      "C:\\Users\\sdotson\\AppData\\Local\\Temp\\ipykernel_22384\\1186705869.py:2: FutureWarning:\n",
      "\n",
      "DataFrame.groupby with axis=1 is deprecated. Do `frame.T.groupby(...)` without axis instead.\n",
      "\n"
     ]
    },
    {
     "data": {
      "image/png": "[encoded data removed]",
      "text/plain": [
       "<Figure size 600x300 with 1 Axes>"
      ]
     },
     "metadata": {},
     "output_type": "display_data"
    }
   ],
   "source": [
    "plot_dispatch(n)"
   ]
  },
  {
   "cell_type": "code",
   "execution_count": null,
   "metadata": {},
   "outputs": [],
   "source": []
  }
 ],
 "metadata": {
  "kernelspec": {
   "display_name": "pypsa-illinois",
   "language": "python",
   "name": "python3"
  },
  "language_info": {
   "codemirror_mode": {
    "name": "ipython",
    "version": 3
   },
   "file_extension": ".py",
   "mimetype": "text/x-python",
   "name": "python",
   "nbconvert_exporter": "python",
   "pygments_lexer": "ipython3",
   "version": "3.10.13"
  }
 },
 "nbformat": 4,
 "nbformat_minor": 4
}
