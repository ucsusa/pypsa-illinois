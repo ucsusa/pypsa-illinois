{
 "cells": [
  {
   "cell_type": "code",
   "execution_count": 1,
   "metadata": {},
   "outputs": [],
   "source": [
    "import geopandas as gpd\n",
    "import pandas as pd\n",
    "import matplotlib.pyplot as plt\n",
    "import numpy as np\n",
    "import requests\n",
    "import osmnx as ox\n",
    "from us import states"
   ]
  },
  {
   "cell_type": "code",
   "execution_count": 2,
   "metadata": {},
   "outputs": [],
   "source": [
    "# bounding_box = (-88.5,41,87.5,42.5)\n",
    "bounding_box = None"
   ]
  },
  {
   "cell_type": "code",
   "execution_count": 3,
   "metadata": {},
   "outputs": [],
   "source": [
    "lines_gdf=gpd.read_file(\"../data/transmission_lines/Electric__Power_Transmission_Lines/Electric__Power_Transmission_Lines.shp\",\n",
    "                        bbox=bounding_box)"
   ]
  },
  {
   "cell_type": "code",
   "execution_count": 4,
   "metadata": {},
   "outputs": [],
   "source": [
    "illinois_url = states.IL.shapefile_urls()['county']\n",
    "il_gdf = gpd.read_file(illinois_url,\n",
    "                       bbox=bounding_box)"
   ]
  },
  {
   "cell_type": "code",
   "execution_count": 5,
   "metadata": {},
   "outputs": [],
   "source": [
    "service_gdf = gpd.read_file(\"../data/spatial-data/Electric_Retail_Service_Territories/Electric_Retail_Service_Territories.shp\",\n",
    "                            bbox=bounding_box)"
   ]
  },
  {
   "cell_type": "code",
   "execution_count": 6,
   "metadata": {},
   "outputs": [],
   "source": [
    "il_gdf.to_crs(epsg=4326, inplace=True)"
   ]
  },
  {
   "cell_type": "markdown",
   "metadata": {},
   "source": [
    "# Transmission"
   ]
  },
  {
   "cell_type": "code",
   "execution_count": 7,
   "metadata": {},
   "outputs": [],
   "source": [
    "il_lines = gpd.sjoin(lines_gdf, il_gdf, how='inner', predicate='intersects')"
   ]
  },
  {
   "cell_type": "markdown",
   "metadata": {},
   "source": [
    "## Service"
   ]
  },
  {
   "cell_type": "code",
   "execution_count": 8,
   "metadata": {},
   "outputs": [],
   "source": [
    "il_service = service_gdf[service_gdf['STATE']=='IL']"
   ]
  },
  {
   "cell_type": "code",
   "execution_count": 9,
   "metadata": {},
   "outputs": [],
   "source": [
    "il_service = il_service.replace(dict(zip(il_service['CNTRL_AREA'].unique(), ['MISO-Z4','ComEd','EEI'])))"
   ]
  },
  {
   "cell_type": "code",
   "execution_count": 10,
   "metadata": {},
   "outputs": [
    {
     "data": {
      "text/plain": [
       "VOLTAGE\n",
       " 138.0       1414\n",
       " 69.0        1078\n",
       " 345.0        505\n",
       "-999999.0     488\n",
       " 161.0         76\n",
       " 230.0         16\n",
       " 765.0          5\n",
       "Name: count, dtype: int64"
      ]
     },
     "execution_count": 10,
     "metadata": {},
     "output_type": "execute_result"
    }
   ],
   "source": [
    "il_lines.VOLTAGE.value_counts()"
   ]
  },
  {
   "cell_type": "code",
   "execution_count": 11,
   "metadata": {},
   "outputs": [],
   "source": [
    "il_lines.replace(-999999, np.nan, inplace=True)"
   ]
  },
  {
   "cell_type": "code",
   "execution_count": 12,
   "metadata": {},
   "outputs": [
    {
     "data": {
      "image/png": "[encoded data removed]",
      "text/plain": [
       "<Figure size 640x480 with 1 Axes>"
      ]
     },
     "metadata": {},
     "output_type": "display_data"
    }
   ],
   "source": [
    "fig, ax = plt.subplots()\n",
    "il_gdf.dissolve('STATEFP10').plot(ax=ax,facecolor='w',edgecolor='k')\n",
    "il_service.dissolve(\"CNTRL_AREA\").reset_index().plot(ax=ax, \n",
    "                column='CNTRL_AREA',\n",
    "                categorical=True,\n",
    "                cmap='prism',\n",
    "                legend=True,\n",
    "                legend_kwds=dict(loc=(-0.1, -0.1), ncols=3),\n",
    "                alpha=1,\n",
    "                edgecolor='k')\n",
    "# il_lines.plot(ax=ax, edgecolor='r')\n",
    "# il_lines.plot(ax=ax,\n",
    "#               color='k'\n",
    "            #    column='VOLTAGE', \n",
    "            #    categorical=False, \n",
    "            #    cmap='cividis',\n",
    "            #    legend=True,\n",
    "            #    legend_kwds=dict(label='Voltage [kV]')\n",
    "            # )  \n",
    "ax.set_axis_off()\n",
    "plt.tight_layout()"
   ]
  },
  {
   "cell_type": "code",
   "execution_count": 13,
   "metadata": {},
   "outputs": [
    {
     "data": {
      "text/plain": [
       "653"
      ]
     },
     "execution_count": 13,
     "metadata": {},
     "output_type": "execute_result"
    }
   ],
   "source": [
    "il_lines[['ID','TYPE','VOLTAGE','SUB_1','SUB_2','geometry']].duplicated().sum()"
   ]
  },
  {
   "cell_type": "code",
   "execution_count": 14,
   "metadata": {},
   "outputs": [],
   "source": [
    "il_lines_simple = il_lines[['ID','TYPE','VOLTAGE','SUB_1','SUB_2','geometry']]"
   ]
  },
  {
   "cell_type": "code",
   "execution_count": 15,
   "metadata": {},
   "outputs": [],
   "source": [
    "n_lines = il_lines_simple.ID.value_counts()"
   ]
  },
  {
   "cell_type": "code",
   "execution_count": 16,
   "metadata": {},
   "outputs": [
    {
     "data": {
      "text/plain": [
       "1914    1\n",
       "1807    1\n",
       "1809    1\n",
       "1830    1\n",
       "1792    1\n",
       "       ..\n",
       "1208    1\n",
       "1192    1\n",
       "1212    1\n",
       "1186    1\n",
       "1206    1\n",
       "Name: count, Length: 2929, dtype: int64"
      ]
     },
     "execution_count": 16,
     "metadata": {},
     "output_type": "execute_result"
    }
   ],
   "source": [
    "n_lines.reset_index().sort_values(by='ID')['count']"
   ]
  },
  {
   "cell_type": "code",
   "execution_count": 17,
   "metadata": {},
   "outputs": [],
   "source": [
    "il_lines_unique = il_lines_simple[~il_lines_simple.duplicated()]"
   ]
  },
  {
   "cell_type": "code",
   "execution_count": 18,
   "metadata": {},
   "outputs": [],
   "source": [
    "il_lines_unique = il_lines_unique.sort_values(by='ID').assign(n_lines=n_lines.reset_index().sort_values(by='ID')['count'].values)"
   ]
  },
  {
   "cell_type": "code",
   "execution_count": 19,
   "metadata": {},
   "outputs": [],
   "source": [
    "from unyt import meter, mile"
   ]
  },
  {
   "cell_type": "code",
   "execution_count": 20,
   "metadata": {},
   "outputs": [
    {
     "data": {
      "text/plain": [
       "0.001242742408066988"
      ]
     },
     "execution_count": 20,
     "metadata": {},
     "output_type": "execute_result"
    }
   ],
   "source": [
    "(2*meter).to(mile).to_value()"
   ]
  },
  {
   "cell_type": "code",
   "execution_count": 21,
   "metadata": {},
   "outputs": [],
   "source": [
    "line_lengths = il_lines_unique.to_crs(epsg=5070).length.apply(lambda d: (d*meter).to(mile).to_value())"
   ]
  },
  {
   "cell_type": "code",
   "execution_count": 22,
   "metadata": {},
   "outputs": [],
   "source": [
    "il_lines_unique = il_lines_unique.assign(length = line_lengths.values)"
   ]
  },
  {
   "cell_type": "code",
   "execution_count": 23,
   "metadata": {},
   "outputs": [
    {
     "data": {
      "text/html": [
       "<div>\n",
       "<style scoped>\n",
       "    .dataframe tbody tr th:only-of-type {\n",
       "        vertical-align: middle;\n",
       "    }\n",
       "\n",
       "    .dataframe tbody tr th {\n",
       "        vertical-align: top;\n",
       "    }\n",
       "\n",
       "    .dataframe thead th {\n",
       "        text-align: right;\n",
       "    }\n",
       "</style>\n",
       "<table border=\"1\" class=\"dataframe\">\n",
       "  <thead>\n",
       "    <tr style=\"text-align: right;\">\n",
       "      <th></th>\n",
       "      <th>ID</th>\n",
       "      <th>TYPE</th>\n",
       "      <th>VOLTAGE</th>\n",
       "      <th>SUB_1</th>\n",
       "      <th>SUB_2</th>\n",
       "      <th>geometry</th>\n",
       "      <th>n_lines</th>\n",
       "      <th>length</th>\n",
       "    </tr>\n",
       "  </thead>\n",
       "  <tbody>\n",
       "    <tr>\n",
       "      <th>14799</th>\n",
       "      <td>100062</td>\n",
       "      <td>AC; OVERHEAD</td>\n",
       "      <td>138.0</td>\n",
       "      <td>UNKNOWN122308</td>\n",
       "      <td>PROSPECT HEIGHTS</td>\n",
       "      <td>LINESTRING (-87.91987 42.11519, -87.92066 42.1...</td>\n",
       "      <td>1</td>\n",
       "      <td>7.788602</td>\n",
       "    </tr>\n",
       "    <tr>\n",
       "      <th>17797</th>\n",
       "      <td>100147</td>\n",
       "      <td>AC; OVERHEAD</td>\n",
       "      <td>345.0</td>\n",
       "      <td>UNKNOWN122189</td>\n",
       "      <td>QUAD CITIES</td>\n",
       "      <td>LINESTRING (-90.27894 41.71517, -90.27931 41.7...</td>\n",
       "      <td>1</td>\n",
       "      <td>2.179378</td>\n",
       "    </tr>\n",
       "    <tr>\n",
       "      <th>17861</th>\n",
       "      <td>100228</td>\n",
       "      <td>AC; OVERHEAD</td>\n",
       "      <td>138.0</td>\n",
       "      <td>UNKNOWN124430</td>\n",
       "      <td>TAP138216</td>\n",
       "      <td>LINESTRING (-88.13106 41.56360, -88.13105 41.5...</td>\n",
       "      <td>1</td>\n",
       "      <td>5.057592</td>\n",
       "    </tr>\n",
       "    <tr>\n",
       "      <th>17879</th>\n",
       "      <td>100252</td>\n",
       "      <td>AC; OVERHEAD</td>\n",
       "      <td>138.0</td>\n",
       "      <td>UNKNOWN122309</td>\n",
       "      <td>PLEASANT HILL</td>\n",
       "      <td>LINESTRING (-88.04330 41.85997, -88.04315 41.8...</td>\n",
       "      <td>1</td>\n",
       "      <td>8.086757</td>\n",
       "    </tr>\n",
       "    <tr>\n",
       "      <th>17919</th>\n",
       "      <td>100296</td>\n",
       "      <td>AC; OVERHEAD</td>\n",
       "      <td>138.0</td>\n",
       "      <td>UNKNOWN121940</td>\n",
       "      <td>UNKNOWN124710</td>\n",
       "      <td>LINESTRING (-87.81741 42.38350, -87.81784 42.3...</td>\n",
       "      <td>1</td>\n",
       "      <td>12.238316</td>\n",
       "    </tr>\n",
       "    <tr>\n",
       "      <th>...</th>\n",
       "      <td>...</td>\n",
       "      <td>...</td>\n",
       "      <td>...</td>\n",
       "      <td>...</td>\n",
       "      <td>...</td>\n",
       "      <td>...</td>\n",
       "      <td>...</td>\n",
       "      <td>...</td>\n",
       "    </tr>\n",
       "    <tr>\n",
       "      <th>67113</th>\n",
       "      <td>180478</td>\n",
       "      <td>NOT AVAILABLE</td>\n",
       "      <td>NaN</td>\n",
       "      <td>UNKNOWN176493</td>\n",
       "      <td>UNKNOWN176035</td>\n",
       "      <td>LINESTRING (-89.04503 39.90182, -89.04457 39.9...</td>\n",
       "      <td>1</td>\n",
       "      <td>0.081239</td>\n",
       "    </tr>\n",
       "    <tr>\n",
       "      <th>67729</th>\n",
       "      <td>180493</td>\n",
       "      <td>NOT AVAILABLE</td>\n",
       "      <td>NaN</td>\n",
       "      <td>UNKNOWN177326</td>\n",
       "      <td>TAP177241</td>\n",
       "      <td>LINESTRING (-89.18322 38.28673, -89.18284 38.2...</td>\n",
       "      <td>1</td>\n",
       "      <td>2.077660</td>\n",
       "    </tr>\n",
       "    <tr>\n",
       "      <th>67368</th>\n",
       "      <td>180658</td>\n",
       "      <td>AC; OVERHEAD</td>\n",
       "      <td>69.0</td>\n",
       "      <td>SHERMAN</td>\n",
       "      <td>TAP176546</td>\n",
       "      <td>LINESTRING (-89.63477 39.88161, -89.63513 39.8...</td>\n",
       "      <td>1</td>\n",
       "      <td>0.019472</td>\n",
       "    </tr>\n",
       "    <tr>\n",
       "      <th>67447</th>\n",
       "      <td>180663</td>\n",
       "      <td>NOT AVAILABLE</td>\n",
       "      <td>NaN</td>\n",
       "      <td>UNKNOWN157894</td>\n",
       "      <td>TAP176072</td>\n",
       "      <td>LINESTRING (-88.81802 39.40086, -88.81801 39.4...</td>\n",
       "      <td>1</td>\n",
       "      <td>0.162990</td>\n",
       "    </tr>\n",
       "    <tr>\n",
       "      <th>67091</th>\n",
       "      <td>180708</td>\n",
       "      <td>NOT AVAILABLE</td>\n",
       "      <td>NaN</td>\n",
       "      <td>ALSEY</td>\n",
       "      <td>UNKNOWN176611</td>\n",
       "      <td>LINESTRING (-90.43820 39.56937, -90.43591 39.5...</td>\n",
       "      <td>1</td>\n",
       "      <td>0.121658</td>\n",
       "    </tr>\n",
       "  </tbody>\n",
       "</table>\n",
       "<p>2929 rows × 8 columns</p>\n",
       "</div>"
      ],
      "text/plain": [
       "           ID           TYPE  VOLTAGE          SUB_1             SUB_2  \\\n",
       "14799  100062   AC; OVERHEAD    138.0  UNKNOWN122308  PROSPECT HEIGHTS   \n",
       "17797  100147   AC; OVERHEAD    345.0  UNKNOWN122189       QUAD CITIES   \n",
       "17861  100228   AC; OVERHEAD    138.0  UNKNOWN124430         TAP138216   \n",
       "17879  100252   AC; OVERHEAD    138.0  UNKNOWN122309     PLEASANT HILL   \n",
       "17919  100296   AC; OVERHEAD    138.0  UNKNOWN121940     UNKNOWN124710   \n",
       "...       ...            ...      ...            ...               ...   \n",
       "67113  180478  NOT AVAILABLE      NaN  UNKNOWN176493     UNKNOWN176035   \n",
       "67729  180493  NOT AVAILABLE      NaN  UNKNOWN177326         TAP177241   \n",
       "67368  180658   AC; OVERHEAD     69.0        SHERMAN         TAP176546   \n",
       "67447  180663  NOT AVAILABLE      NaN  UNKNOWN157894         TAP176072   \n",
       "67091  180708  NOT AVAILABLE      NaN          ALSEY     UNKNOWN176611   \n",
       "\n",
       "                                                geometry  n_lines     length  \n",
       "14799  LINESTRING (-87.91987 42.11519, -87.92066 42.1...        1   7.788602  \n",
       "17797  LINESTRING (-90.27894 41.71517, -90.27931 41.7...        1   2.179378  \n",
       "17861  LINESTRING (-88.13106 41.56360, -88.13105 41.5...        1   5.057592  \n",
       "17879  LINESTRING (-88.04330 41.85997, -88.04315 41.8...        1   8.086757  \n",
       "17919  LINESTRING (-87.81741 42.38350, -87.81784 42.3...        1  12.238316  \n",
       "...                                                  ...      ...        ...  \n",
       "67113  LINESTRING (-89.04503 39.90182, -89.04457 39.9...        1   0.081239  \n",
       "67729  LINESTRING (-89.18322 38.28673, -89.18284 38.2...        1   2.077660  \n",
       "67368  LINESTRING (-89.63477 39.88161, -89.63513 39.8...        1   0.019472  \n",
       "67447  LINESTRING (-88.81802 39.40086, -88.81801 39.4...        1   0.162990  \n",
       "67091  LINESTRING (-90.43820 39.56937, -90.43591 39.5...        1   0.121658  \n",
       "\n",
       "[2929 rows x 8 columns]"
      ]
     },
     "execution_count": 23,
     "metadata": {},
     "output_type": "execute_result"
    }
   ],
   "source": [
    "il_lines_unique"
   ]
  },
  {
   "cell_type": "code",
   "execution_count": 24,
   "metadata": {},
   "outputs": [],
   "source": [
    "sub_1_coords = il_lines.geometry.apply(lambda x: x.boundary.geoms[0])\n",
    "sub_2_coords = il_lines.geometry.apply(lambda x: x.boundary.geoms[1])"
   ]
  },
  {
   "cell_type": "code",
   "execution_count": 25,
   "metadata": {},
   "outputs": [
    {
     "data": {
      "text/plain": [
       "-88.2350718"
      ]
     },
     "execution_count": 25,
     "metadata": {},
     "output_type": "execute_result"
    }
   ],
   "source": [
    "sub_1_coords.values[0].x"
   ]
  },
  {
   "cell_type": "code",
   "execution_count": 26,
   "metadata": {},
   "outputs": [],
   "source": [
    "import pypsa"
   ]
  },
  {
   "cell_type": "code",
   "execution_count": 27,
   "metadata": {},
   "outputs": [],
   "source": [
    "# for index, row in il_lines.iterrows():\n",
    "#     voltage = row['VOLTAGE']\n",
    "#     sub_1_coords = \n",
    "#     print(row['SUB_1'])"
   ]
  }
 ],
 "metadata": {
  "kernelspec": {
   "display_name": "Python (pypsa-illinois)",
   "language": "python",
   "name": "pypsa-illinois"
  },
  "language_info": {
   "codemirror_mode": {
    "name": "ipython",
    "version": 3
   },
   "file_extension": ".py",
   "mimetype": "text/x-python",
   "name": "python",
   "nbconvert_exporter": "python",
   "pygments_lexer": "ipython3",
   "version": "3.10.13"
  }
 },
 "nbformat": 4,
 "nbformat_minor": 4
}
