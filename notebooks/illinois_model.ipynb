{
 "cells": [
  {
   "cell_type": "code",
   "execution_count": 1,
   "metadata": {},
   "outputs": [],
   "source": [
    "import pypsa\n",
    "import matplotlib.pyplot as plt\n",
    "import pandas as pd\n",
    "import numpy as np\n",
    "from nrelpy.atb import ATBe"
   ]
  },
  {
   "cell_type": "markdown",
   "metadata": {},
   "source": [
    "## Technology Data and Costs\n",
    "\n",
    "As a first pass, we can use data curated by the PyPSA team for Europe in units of &euro; (later, we can convert these to dollars or use data from NREL)."
   ]
  },
  {
   "cell_type": "code",
   "execution_count": 2,
   "metadata": {},
   "outputs": [],
   "source": [
    "year = 2030\n",
    "url = f\"https://raw.githubusercontent.com/PyPSA/technology-data/master/outputs/costs_{year}.csv\"\n",
    "costs = pd.read_csv(url, index_col=[0, 1])"
   ]
  },
  {
   "cell_type": "code",
   "execution_count": 3,
   "metadata": {},
   "outputs": [],
   "source": [
    "costs.loc[costs.unit.str.contains(\"/kW\"), \"value\"] *= 1e3\n",
    "costs.unit = costs.unit.str.replace(\"/kW\", \"/MW\")\n",
    "\n",
    "defaults = {\n",
    "    \"FOM\": 0,\n",
    "    \"VOM\": 0,\n",
    "    \"efficiency\": 1,\n",
    "    \"fuel\": 0,\n",
    "    \"investment\": 0,\n",
    "    \"lifetime\": 25,\n",
    "    \"CO2 intensity\": 0,\n",
    "    \"discount rate\": 0.07,\n",
    "}\n",
    "costs = costs.value.unstack().fillna(defaults)\n",
    "\n",
    "costs.at[\"OCGT\", \"fuel\"] = costs.at[\"gas\", \"fuel\"]\n",
    "costs.at[\"CCGT\", \"fuel\"] = costs.at[\"gas\", \"fuel\"]\n",
    "costs.at[\"OCGT\", \"CO2 intensity\"] = costs.at[\"gas\", \"CO2 intensity\"]\n",
    "costs.at[\"CCGT\", \"CO2 intensity\"] = costs.at[\"gas\", \"CO2 intensity\"]"
   ]
  },
  {
   "cell_type": "code",
   "execution_count": 4,
   "metadata": {},
   "outputs": [],
   "source": [
    "def annuity(r, n):\n",
    "    return r / (1.0 - 1.0 / (1.0 + r) ** n)"
   ]
  },
  {
   "cell_type": "code",
   "execution_count": 5,
   "metadata": {},
   "outputs": [],
   "source": [
    "costs[\"marginal_cost\"] = costs[\"VOM\"] + costs[\"fuel\"] / costs[\"efficiency\"]"
   ]
  },
  {
   "cell_type": "code",
   "execution_count": 7,
   "metadata": {},
   "outputs": [],
   "source": [
    "annuity = costs.apply(lambda x: annuity(x[\"discount rate\"], x[\"lifetime\"]), axis=1)"
   ]
  },
  {
   "cell_type": "code",
   "execution_count": 8,
   "metadata": {},
   "outputs": [],
   "source": [
    "costs[\"capital_cost\"] = (annuity + costs[\"FOM\"] / 100) * costs[\"investment\"]"
   ]
  },
  {
   "cell_type": "markdown",
   "metadata": {},
   "source": [
    "## Retrieve Time Series Data"
   ]
  },
  {
   "cell_type": "code",
   "execution_count": 9,
   "metadata": {},
   "outputs": [],
   "source": [
    "pjm_load = pd.read_csv(\"../data/pjm_demand.csv\", usecols=['Interval End','CE'], parse_dates=True, index_col='Interval End')"
   ]
  },
  {
   "cell_type": "code",
   "execution_count": 10,
   "metadata": {},
   "outputs": [
    {
     "data": {
      "text/html": [
       "<div>\n",
       "<style scoped>\n",
       "    .dataframe tbody tr th:only-of-type {\n",
       "        vertical-align: middle;\n",
       "    }\n",
       "\n",
       "    .dataframe tbody tr th {\n",
       "        vertical-align: top;\n",
       "    }\n",
       "\n",
       "    .dataframe thead th {\n",
       "        text-align: right;\n",
       "    }\n",
       "</style>\n",
       "<table border=\"1\" class=\"dataframe\">\n",
       "  <thead>\n",
       "    <tr style=\"text-align: right;\">\n",
       "      <th></th>\n",
       "      <th>CE</th>\n",
       "    </tr>\n",
       "    <tr>\n",
       "      <th>Interval End</th>\n",
       "      <th></th>\n",
       "    </tr>\n",
       "  </thead>\n",
       "  <tbody>\n",
       "    <tr>\n",
       "      <th>2019-01-01 00:00:00+00:00</th>\n",
       "      <td>11593.0</td>\n",
       "    </tr>\n",
       "    <tr>\n",
       "      <th>2019-01-01 01:00:00+00:00</th>\n",
       "      <td>11258.0</td>\n",
       "    </tr>\n",
       "  </tbody>\n",
       "</table>\n",
       "</div>"
      ],
      "text/plain": [
       "                                CE\n",
       "Interval End                      \n",
       "2019-01-01 00:00:00+00:00  11593.0\n",
       "2019-01-01 01:00:00+00:00  11258.0"
      ]
     },
     "execution_count": 10,
     "metadata": {},
     "output_type": "execute_result"
    }
   ],
   "source": [
    "pjm_load.head(2)"
   ]
  },
  {
   "cell_type": "code",
   "execution_count": 11,
   "metadata": {},
   "outputs": [
    {
     "data": {
      "text/html": [
       "<div>\n",
       "<style scoped>\n",
       "    .dataframe tbody tr th:only-of-type {\n",
       "        vertical-align: middle;\n",
       "    }\n",
       "\n",
       "    .dataframe tbody tr th {\n",
       "        vertical-align: top;\n",
       "    }\n",
       "\n",
       "    .dataframe thead th {\n",
       "        text-align: right;\n",
       "    }\n",
       "</style>\n",
       "<table border=\"1\" class=\"dataframe\">\n",
       "  <thead>\n",
       "    <tr style=\"text-align: right;\">\n",
       "      <th></th>\n",
       "      <th>0004</th>\n",
       "    </tr>\n",
       "    <tr>\n",
       "      <th>Interval End</th>\n",
       "      <th></th>\n",
       "    </tr>\n",
       "  </thead>\n",
       "  <tbody>\n",
       "    <tr>\n",
       "      <th>2019-01-01 00:00:00+00:00</th>\n",
       "      <td>5406.0</td>\n",
       "    </tr>\n",
       "    <tr>\n",
       "      <th>2019-01-01 01:00:00+00:00</th>\n",
       "      <td>5289.0</td>\n",
       "    </tr>\n",
       "  </tbody>\n",
       "</table>\n",
       "</div>"
      ],
      "text/plain": [
       "                             0004\n",
       "Interval End                     \n",
       "2019-01-01 00:00:00+00:00  5406.0\n",
       "2019-01-01 01:00:00+00:00  5289.0"
      ]
     },
     "execution_count": 11,
     "metadata": {},
     "output_type": "execute_result"
    }
   ],
   "source": [
    "miso_load = pd.read_csv('../data/miso_demand.csv', usecols=['Interval End','0004'], parse_dates=True, index_col='Interval End')\n",
    "miso_load.head(2)"
   ]
  },
  {
   "cell_type": "code",
   "execution_count": 12,
   "metadata": {},
   "outputs": [],
   "source": [
    "load_year = 2022\n",
    "\n",
    "pjm_2022 = pjm_load[pjm_load.index.year == load_year]\n",
    "miso_2022 = miso_load[miso_load.index.year == load_year]"
   ]
  },
  {
   "cell_type": "markdown",
   "metadata": {},
   "source": [
    "Update the resolution for simplicity"
   ]
  },
  {
   "cell_type": "code",
   "execution_count": 13,
   "metadata": {},
   "outputs": [],
   "source": [
    "resolution = 4\n",
    "pjm_2022 = pjm_2022.resample(f\"{resolution}h\").mean()\n",
    "miso_2022 = miso_2022.resample(f\"{resolution}h\").mean()"
   ]
  },
  {
   "cell_type": "markdown",
   "metadata": {},
   "source": [
    "## Capacity Expansion Model\n",
    "\n",
    "### Model Initialization"
   ]
  },
  {
   "cell_type": "code",
   "execution_count": 14,
   "metadata": {},
   "outputs": [],
   "source": [
    "n = pypsa.Network()"
   ]
  },
  {
   "cell_type": "markdown",
   "metadata": {},
   "source": [
    "Add two buses -- PJM ComEd and Miso Zone 4"
   ]
  },
  {
   "cell_type": "code",
   "execution_count": 15,
   "metadata": {},
   "outputs": [],
   "source": [
    "n.add(\"Bus\", \"0004\")\n",
    "n.add(\"Bus\", \"CE\")"
   ]
  },
  {
   "cell_type": "code",
   "execution_count": 16,
   "metadata": {},
   "outputs": [
    {
     "data": {
      "text/plain": [
       "Index(['0004', 'CE'], dtype='object', name='Bus')"
      ]
     },
     "execution_count": 16,
     "metadata": {},
     "output_type": "execute_result"
    }
   ],
   "source": [
    "n.buses.index"
   ]
  },
  {
   "cell_type": "code",
   "execution_count": 17,
   "metadata": {},
   "outputs": [],
   "source": [
    "n.set_snapshots(pjm_2022.index)"
   ]
  },
  {
   "cell_type": "code",
   "execution_count": 18,
   "metadata": {},
   "outputs": [
    {
     "data": {
      "text/plain": [
       "DatetimeIndex(['2022-01-01 00:00:00+00:00', '2022-01-01 04:00:00+00:00',\n",
       "               '2022-01-01 08:00:00+00:00', '2022-01-01 12:00:00+00:00',\n",
       "               '2022-01-01 16:00:00+00:00', '2022-01-01 20:00:00+00:00',\n",
       "               '2022-01-02 00:00:00+00:00', '2022-01-02 04:00:00+00:00',\n",
       "               '2022-01-02 08:00:00+00:00', '2022-01-02 12:00:00+00:00',\n",
       "               ...\n",
       "               '2022-12-30 08:00:00+00:00', '2022-12-30 12:00:00+00:00',\n",
       "               '2022-12-30 16:00:00+00:00', '2022-12-30 20:00:00+00:00',\n",
       "               '2022-12-31 00:00:00+00:00', '2022-12-31 04:00:00+00:00',\n",
       "               '2022-12-31 08:00:00+00:00', '2022-12-31 12:00:00+00:00',\n",
       "               '2022-12-31 16:00:00+00:00', '2022-12-31 20:00:00+00:00'],\n",
       "              dtype='datetime64[ns, UTC]', name='snapshot', length=2190, freq='4h')"
      ]
     },
     "execution_count": 18,
     "metadata": {},
     "output_type": "execute_result"
    }
   ],
   "source": [
    "n.snapshots"
   ]
  },
  {
   "cell_type": "code",
   "execution_count": 19,
   "metadata": {},
   "outputs": [],
   "source": [
    "n.snapshot_weightings.loc[:,:] = resolution  # how many hours each timeslice represents, based on the temporal resolution"
   ]
  },
  {
   "cell_type": "code",
   "execution_count": 20,
   "metadata": {},
   "outputs": [
    {
     "data": {
      "text/plain": [
       "Index(['onwind', 'nuclear', 'solar', 'OCGT', 'hydrogen storage underground',\n",
       "       'battery storage'],\n",
       "      dtype='object')"
      ]
     },
     "execution_count": 20,
     "metadata": {},
     "output_type": "execute_result"
    }
   ],
   "source": [
    "carriers = [\n",
    "    \"onwind\",\n",
    "    # \"offwind\",\n",
    "    \"nuclear\",\n",
    "    \"solar\",\n",
    "    \"OCGT\",\n",
    "    # \"CCGT\",\n",
    "    \"hydrogen storage underground\",\n",
    "    \"battery storage\",\n",
    "]\n",
    "\n",
    "colors = {\"onwind\":'dodgerblue',\n",
    "          \"offwind\":\"aquamarine\",\n",
    "          \"nuclear\":\"green\",\n",
    "          \"solar\":\"gold\",\n",
    "          \"OCGT\":\"indianred\",\n",
    "          \"CCGT\":\"orange\",\n",
    "          \"hydrogen storage underground\":\"magenta\",\n",
    "          \"battery storage\":\"yellowgreen\"}\n",
    "\n",
    "n.madd(\n",
    "    \"Carrier\",\n",
    "    carriers,\n",
    "    color=[colors[c] for c in carriers],\n",
    "    co2_emissions=[costs.at[c, \"CO2 intensity\"] for c in carriers],\n",
    ")"
   ]
  },
  {
   "cell_type": "markdown",
   "metadata": {},
   "source": [
    "Add the load to the buses"
   ]
  },
  {
   "cell_type": "code",
   "execution_count": 21,
   "metadata": {},
   "outputs": [],
   "source": [
    "n.add(\n",
    "    \"Load\",\n",
    "    \"pjm_load\",\n",
    "    bus='CE',\n",
    "    p_set = pjm_2022['CE']\n",
    ")\n",
    "\n",
    "n.add(\n",
    "    \"Load\",\n",
    "    \"miso_load\",\n",
    "    bus='0004',\n",
    "    p_set = miso_2022['0004']\n",
    ")"
   ]
  },
  {
   "cell_type": "code",
   "execution_count": 22,
   "metadata": {},
   "outputs": [
    {
     "data": {
      "text/plain": [
       "<Axes: xlabel='snapshot', ylabel='MW'>"
      ]
     },
     "execution_count": 22,
     "metadata": {},
     "output_type": "execute_result"
    },
    {
     "data": {
      "image/png": "[encoded data removed]",
      "text/plain": [
       "<Figure size 640x480 with 1 Axes>"
      ]
     },
     "metadata": {},
     "output_type": "display_data"
    }
   ],
   "source": [
    "n.loads_t.p_set.plot(ylabel='MW')"
   ]
  },
  {
   "cell_type": "markdown",
   "metadata": {},
   "source": [
    "### Adding generators to the model"
   ]
  },
  {
   "cell_type": "code",
   "execution_count": 23,
   "metadata": {},
   "outputs": [
    {
     "name": "stdout",
     "output_type": "stream",
     "text": [
      "\u001b[1;31mSignature:\u001b[0m \u001b[0mn\u001b[0m\u001b[1;33m.\u001b[0m\u001b[0mmadd\u001b[0m\u001b[1;33m(\u001b[0m\u001b[0mclass_name\u001b[0m\u001b[1;33m,\u001b[0m \u001b[0mnames\u001b[0m\u001b[1;33m,\u001b[0m \u001b[0msuffix\u001b[0m\u001b[1;33m=\u001b[0m\u001b[1;34m''\u001b[0m\u001b[1;33m,\u001b[0m \u001b[1;33m**\u001b[0m\u001b[0mkwargs\u001b[0m\u001b[1;33m)\u001b[0m\u001b[1;33m\u001b[0m\u001b[1;33m\u001b[0m\u001b[0m\n",
      "\u001b[1;31mDocstring:\u001b[0m\n",
      "Add multiple components to the network, along with their attributes.\n",
      "\n",
      "Make sure when adding static attributes as pandas Series that they are indexed\n",
      "by names. Make sure when adding time-varying attributes as pandas DataFrames that\n",
      "their index is a superset of network.snapshots and their columns are a\n",
      "subset of names.\n",
      "\n",
      "Any attributes which are not specified will be given the default\n",
      "value from :doc:`components`.\n",
      "\n",
      "Parameters\n",
      "----------\n",
      "class_name : string\n",
      "    Component class name in (\"Bus\", \"Generator\", \"Load\", \"StorageUnit\",\n",
      "    \"Store\", \"ShuntImpedance\", \"Line\", \"Transformer\", \"Link\").\n",
      "names : list-like or pandas.Index\n",
      "    Component names\n",
      "suffix : string, default ''\n",
      "    All components are named after names with this added suffix. It\n",
      "    is assumed that all Series and DataFrames are indexed by the original names.\n",
      "kwargs\n",
      "    Component attributes, e.g. x=[0.1, 0.2], can be list, pandas.Series\n",
      "    of pandas.DataFrame for time-varying\n",
      "\n",
      "Returns\n",
      "--------\n",
      "new_names : pandas.index\n",
      "    Names of new components (including suffix)\n",
      "\n",
      "Examples\n",
      "--------\n",
      "\n",
      "Short Example:\n",
      "\n",
      ">>> network.madd(\"Load\", [\"load 1\", \"load 2\"],\n",
      "...        bus=[\"1\", \"2\"],\n",
      "...        p_set=np.random.rand(len(network.snapshots), 2))\n",
      "\n",
      "Long Example:\n",
      "\n",
      ">>> import pandas as pd, numpy as np\n",
      ">>> buses = range(13)\n",
      ">>> snapshots = range(7)\n",
      ">>> n = pypsa.Network()\n",
      ">>> n.set_snapshots(snapshots)\n",
      ">>> n.madd(\"Bus\", buses)\n",
      ">>> # add load as numpy array\n",
      ">>> n.madd(\"Load\",\n",
      "...        n.buses.index + \" load\",\n",
      "...        bus=buses,\n",
      "...        p_set=np.random.rand(len(snapshots), len(buses)))\n",
      ">>> # add wind availability as pandas DataFrame\n",
      ">>> wind = pd.DataFrame(np.random.rand(len(snapshots), len(buses)),\n",
      "...        index=n.snapshots,\n",
      "...        columns=buses)\n",
      ">>> #use a suffix to avoid boilerplate to rename everything\n",
      ">>> n.madd(\"Generator\",\n",
      "...        buses,\n",
      "...        suffix=' wind',\n",
      "...        bus=buses,\n",
      "...        p_nom_extendable=True,\n",
      "...        capital_cost=1e5,\n",
      "...        p_max_pu=wind)\n",
      "\u001b[1;31mFile:\u001b[0m      c:\\users\\sdotson\\appdata\\local\\miniforge3\\envs\\pypsa-illinois\\lib\\site-packages\\pypsa\\components.py\n",
      "\u001b[1;31mType:\u001b[0m      method"
     ]
    }
   ],
   "source": [
    "n.madd?"
   ]
  },
  {
   "cell_type": "code",
   "execution_count": 24,
   "metadata": {},
   "outputs": [
    {
     "data": {
      "text/plain": [
       "Index(['CE OCGT', '0004 OCGT'], dtype='object')"
      ]
     },
     "execution_count": 24,
     "metadata": {},
     "output_type": "execute_result"
    }
   ],
   "source": [
    "buses = ['CE','0004']\n",
    "n.madd(\n",
    "    \"Generator\",\n",
    "    buses,\n",
    "    suffix=' OCGT',\n",
    "    bus=[\"CE\", '0004'],\n",
    "    carrier=\"OCGT\",\n",
    "    capital_cost=costs.at[\"OCGT\", \"capital_cost\"],\n",
    "    marginal_cost=costs.at[\"OCGT\", \"marginal_cost\"],\n",
    "    efficiency=costs.at[\"OCGT\", \"efficiency\"],\n",
    "    p_nom_extendable=True,\n",
    ")"
   ]
  },
  {
   "cell_type": "code",
   "execution_count": 25,
   "metadata": {},
   "outputs": [
    {
     "data": {
      "text/plain": [
       "DatetimeIndex(['2022-01-01 00:00:00+00:00', '2022-01-01 04:00:00+00:00',\n",
       "               '2022-01-01 08:00:00+00:00', '2022-01-01 12:00:00+00:00',\n",
       "               '2022-01-01 16:00:00+00:00', '2022-01-01 20:00:00+00:00',\n",
       "               '2022-01-02 00:00:00+00:00', '2022-01-02 04:00:00+00:00',\n",
       "               '2022-01-02 08:00:00+00:00', '2022-01-02 12:00:00+00:00',\n",
       "               ...\n",
       "               '2022-12-30 08:00:00+00:00', '2022-12-30 12:00:00+00:00',\n",
       "               '2022-12-30 16:00:00+00:00', '2022-12-30 20:00:00+00:00',\n",
       "               '2022-12-31 00:00:00+00:00', '2022-12-31 04:00:00+00:00',\n",
       "               '2022-12-31 08:00:00+00:00', '2022-12-31 12:00:00+00:00',\n",
       "               '2022-12-31 16:00:00+00:00', '2022-12-31 20:00:00+00:00'],\n",
       "              dtype='datetime64[ns, UTC]', name='Interval End', length=2190, freq='4h')"
      ]
     },
     "execution_count": 25,
     "metadata": {},
     "output_type": "execute_result"
    }
   ],
   "source": [
    "miso_2022.index"
   ]
  },
  {
   "cell_type": "code",
   "execution_count": 26,
   "metadata": {},
   "outputs": [
    {
     "data": {
      "text/plain": [
       "DatetimeIndex(['2022-01-01 00:00:00+00:00', '2022-01-01 04:00:00+00:00',\n",
       "               '2022-01-01 08:00:00+00:00', '2022-01-01 12:00:00+00:00',\n",
       "               '2022-01-01 16:00:00+00:00', '2022-01-01 20:00:00+00:00',\n",
       "               '2022-01-02 00:00:00+00:00', '2022-01-02 04:00:00+00:00',\n",
       "               '2022-01-02 08:00:00+00:00', '2022-01-02 12:00:00+00:00',\n",
       "               ...\n",
       "               '2022-12-30 08:00:00+00:00', '2022-12-30 12:00:00+00:00',\n",
       "               '2022-12-30 16:00:00+00:00', '2022-12-30 20:00:00+00:00',\n",
       "               '2022-12-31 00:00:00+00:00', '2022-12-31 04:00:00+00:00',\n",
       "               '2022-12-31 08:00:00+00:00', '2022-12-31 12:00:00+00:00',\n",
       "               '2022-12-31 16:00:00+00:00', '2022-12-31 20:00:00+00:00'],\n",
       "              dtype='datetime64[ns, UTC]', name='snapshot', length=2190, freq='4h')"
      ]
     },
     "execution_count": 26,
     "metadata": {},
     "output_type": "execute_result"
    }
   ],
   "source": [
    "n.snapshots"
   ]
  },
  {
   "cell_type": "code",
   "execution_count": 27,
   "metadata": {},
   "outputs": [
    {
     "data": {
      "text/plain": [
       "PyPSA Network\n",
       "Components:\n",
       " - Bus: 2\n",
       " - Carrier: 6\n",
       " - Generator: 2\n",
       " - Load: 2\n",
       "Snapshots: 2190"
      ]
     },
     "execution_count": 27,
     "metadata": {},
     "output_type": "execute_result"
    }
   ],
   "source": [
    "n"
   ]
  },
  {
   "cell_type": "code",
   "execution_count": 28,
   "metadata": {},
   "outputs": [
    {
     "data": {
      "text/plain": [
       "{'p_set': Load                       pjm_load  miso_load\n",
       " snapshot                                      \n",
       " 2022-01-01 00:00:00+00:00  10221.00    4720.00\n",
       " 2022-01-01 04:00:00+00:00   9156.75    4259.75\n",
       " 2022-01-01 08:00:00+00:00   8376.00    3993.50\n",
       " 2022-01-01 12:00:00+00:00   8713.00    4258.25\n",
       " 2022-01-01 16:00:00+00:00   9598.00    4814.75\n",
       " ...                             ...        ...\n",
       " 2022-12-31 04:00:00+00:00   9765.50    4787.25\n",
       " 2022-12-31 08:00:00+00:00   8957.25    4491.75\n",
       " 2022-12-31 12:00:00+00:00   9507.25    4774.00\n",
       " 2022-12-31 16:00:00+00:00   9693.75    4851.75\n",
       " 2022-12-31 20:00:00+00:00   9786.00    4756.75\n",
       " \n",
       " [2190 rows x 2 columns],\n",
       " 'q_set': Empty DataFrame\n",
       " Columns: []\n",
       " Index: [2022-01-01 00:00:00+00:00, 2022-01-01 04:00:00+00:00, 2022-01-01 08:00:00+00:00, 2022-01-01 12:00:00+00:00, 2022-01-01 16:00:00+00:00, 2022-01-01 20:00:00+00:00, 2022-01-02 00:00:00+00:00, 2022-01-02 04:00:00+00:00, 2022-01-02 08:00:00+00:00, 2022-01-02 12:00:00+00:00, 2022-01-02 16:00:00+00:00, 2022-01-02 20:00:00+00:00, 2022-01-03 00:00:00+00:00, 2022-01-03 04:00:00+00:00, 2022-01-03 08:00:00+00:00, 2022-01-03 12:00:00+00:00, 2022-01-03 16:00:00+00:00, 2022-01-03 20:00:00+00:00, 2022-01-04 00:00:00+00:00, 2022-01-04 04:00:00+00:00, 2022-01-04 08:00:00+00:00, 2022-01-04 12:00:00+00:00, 2022-01-04 16:00:00+00:00, 2022-01-04 20:00:00+00:00, 2022-01-05 00:00:00+00:00, 2022-01-05 04:00:00+00:00, 2022-01-05 08:00:00+00:00, 2022-01-05 12:00:00+00:00, 2022-01-05 16:00:00+00:00, 2022-01-05 20:00:00+00:00, 2022-01-06 00:00:00+00:00, 2022-01-06 04:00:00+00:00, 2022-01-06 08:00:00+00:00, 2022-01-06 12:00:00+00:00, 2022-01-06 16:00:00+00:00, 2022-01-06 20:00:00+00:00, 2022-01-07 00:00:00+00:00, 2022-01-07 04:00:00+00:00, 2022-01-07 08:00:00+00:00, 2022-01-07 12:00:00+00:00, 2022-01-07 16:00:00+00:00, 2022-01-07 20:00:00+00:00, 2022-01-08 00:00:00+00:00, 2022-01-08 04:00:00+00:00, 2022-01-08 08:00:00+00:00, 2022-01-08 12:00:00+00:00, 2022-01-08 16:00:00+00:00, 2022-01-08 20:00:00+00:00, 2022-01-09 00:00:00+00:00, 2022-01-09 04:00:00+00:00, 2022-01-09 08:00:00+00:00, 2022-01-09 12:00:00+00:00, 2022-01-09 16:00:00+00:00, 2022-01-09 20:00:00+00:00, 2022-01-10 00:00:00+00:00, 2022-01-10 04:00:00+00:00, 2022-01-10 08:00:00+00:00, 2022-01-10 12:00:00+00:00, 2022-01-10 16:00:00+00:00, 2022-01-10 20:00:00+00:00, 2022-01-11 00:00:00+00:00, 2022-01-11 04:00:00+00:00, 2022-01-11 08:00:00+00:00, 2022-01-11 12:00:00+00:00, 2022-01-11 16:00:00+00:00, 2022-01-11 20:00:00+00:00, 2022-01-12 00:00:00+00:00, 2022-01-12 04:00:00+00:00, 2022-01-12 08:00:00+00:00, 2022-01-12 12:00:00+00:00, 2022-01-12 16:00:00+00:00, 2022-01-12 20:00:00+00:00, 2022-01-13 00:00:00+00:00, 2022-01-13 04:00:00+00:00, 2022-01-13 08:00:00+00:00, 2022-01-13 12:00:00+00:00, 2022-01-13 16:00:00+00:00, 2022-01-13 20:00:00+00:00, 2022-01-14 00:00:00+00:00, 2022-01-14 04:00:00+00:00, 2022-01-14 08:00:00+00:00, 2022-01-14 12:00:00+00:00, 2022-01-14 16:00:00+00:00, 2022-01-14 20:00:00+00:00, 2022-01-15 00:00:00+00:00, 2022-01-15 04:00:00+00:00, 2022-01-15 08:00:00+00:00, 2022-01-15 12:00:00+00:00, 2022-01-15 16:00:00+00:00, 2022-01-15 20:00:00+00:00, 2022-01-16 00:00:00+00:00, 2022-01-16 04:00:00+00:00, 2022-01-16 08:00:00+00:00, 2022-01-16 12:00:00+00:00, 2022-01-16 16:00:00+00:00, 2022-01-16 20:00:00+00:00, 2022-01-17 00:00:00+00:00, 2022-01-17 04:00:00+00:00, 2022-01-17 08:00:00+00:00, 2022-01-17 12:00:00+00:00, ...]\n",
       " \n",
       " [2190 rows x 0 columns],\n",
       " 'p': Empty DataFrame\n",
       " Columns: []\n",
       " Index: [2022-01-01 00:00:00+00:00, 2022-01-01 04:00:00+00:00, 2022-01-01 08:00:00+00:00, 2022-01-01 12:00:00+00:00, 2022-01-01 16:00:00+00:00, 2022-01-01 20:00:00+00:00, 2022-01-02 00:00:00+00:00, 2022-01-02 04:00:00+00:00, 2022-01-02 08:00:00+00:00, 2022-01-02 12:00:00+00:00, 2022-01-02 16:00:00+00:00, 2022-01-02 20:00:00+00:00, 2022-01-03 00:00:00+00:00, 2022-01-03 04:00:00+00:00, 2022-01-03 08:00:00+00:00, 2022-01-03 12:00:00+00:00, 2022-01-03 16:00:00+00:00, 2022-01-03 20:00:00+00:00, 2022-01-04 00:00:00+00:00, 2022-01-04 04:00:00+00:00, 2022-01-04 08:00:00+00:00, 2022-01-04 12:00:00+00:00, 2022-01-04 16:00:00+00:00, 2022-01-04 20:00:00+00:00, 2022-01-05 00:00:00+00:00, 2022-01-05 04:00:00+00:00, 2022-01-05 08:00:00+00:00, 2022-01-05 12:00:00+00:00, 2022-01-05 16:00:00+00:00, 2022-01-05 20:00:00+00:00, 2022-01-06 00:00:00+00:00, 2022-01-06 04:00:00+00:00, 2022-01-06 08:00:00+00:00, 2022-01-06 12:00:00+00:00, 2022-01-06 16:00:00+00:00, 2022-01-06 20:00:00+00:00, 2022-01-07 00:00:00+00:00, 2022-01-07 04:00:00+00:00, 2022-01-07 08:00:00+00:00, 2022-01-07 12:00:00+00:00, 2022-01-07 16:00:00+00:00, 2022-01-07 20:00:00+00:00, 2022-01-08 00:00:00+00:00, 2022-01-08 04:00:00+00:00, 2022-01-08 08:00:00+00:00, 2022-01-08 12:00:00+00:00, 2022-01-08 16:00:00+00:00, 2022-01-08 20:00:00+00:00, 2022-01-09 00:00:00+00:00, 2022-01-09 04:00:00+00:00, 2022-01-09 08:00:00+00:00, 2022-01-09 12:00:00+00:00, 2022-01-09 16:00:00+00:00, 2022-01-09 20:00:00+00:00, 2022-01-10 00:00:00+00:00, 2022-01-10 04:00:00+00:00, 2022-01-10 08:00:00+00:00, 2022-01-10 12:00:00+00:00, 2022-01-10 16:00:00+00:00, 2022-01-10 20:00:00+00:00, 2022-01-11 00:00:00+00:00, 2022-01-11 04:00:00+00:00, 2022-01-11 08:00:00+00:00, 2022-01-11 12:00:00+00:00, 2022-01-11 16:00:00+00:00, 2022-01-11 20:00:00+00:00, 2022-01-12 00:00:00+00:00, 2022-01-12 04:00:00+00:00, 2022-01-12 08:00:00+00:00, 2022-01-12 12:00:00+00:00, 2022-01-12 16:00:00+00:00, 2022-01-12 20:00:00+00:00, 2022-01-13 00:00:00+00:00, 2022-01-13 04:00:00+00:00, 2022-01-13 08:00:00+00:00, 2022-01-13 12:00:00+00:00, 2022-01-13 16:00:00+00:00, 2022-01-13 20:00:00+00:00, 2022-01-14 00:00:00+00:00, 2022-01-14 04:00:00+00:00, 2022-01-14 08:00:00+00:00, 2022-01-14 12:00:00+00:00, 2022-01-14 16:00:00+00:00, 2022-01-14 20:00:00+00:00, 2022-01-15 00:00:00+00:00, 2022-01-15 04:00:00+00:00, 2022-01-15 08:00:00+00:00, 2022-01-15 12:00:00+00:00, 2022-01-15 16:00:00+00:00, 2022-01-15 20:00:00+00:00, 2022-01-16 00:00:00+00:00, 2022-01-16 04:00:00+00:00, 2022-01-16 08:00:00+00:00, 2022-01-16 12:00:00+00:00, 2022-01-16 16:00:00+00:00, 2022-01-16 20:00:00+00:00, 2022-01-17 00:00:00+00:00, 2022-01-17 04:00:00+00:00, 2022-01-17 08:00:00+00:00, 2022-01-17 12:00:00+00:00, ...]\n",
       " \n",
       " [2190 rows x 0 columns],\n",
       " 'q': Empty DataFrame\n",
       " Columns: []\n",
       " Index: [2022-01-01 00:00:00+00:00, 2022-01-01 04:00:00+00:00, 2022-01-01 08:00:00+00:00, 2022-01-01 12:00:00+00:00, 2022-01-01 16:00:00+00:00, 2022-01-01 20:00:00+00:00, 2022-01-02 00:00:00+00:00, 2022-01-02 04:00:00+00:00, 2022-01-02 08:00:00+00:00, 2022-01-02 12:00:00+00:00, 2022-01-02 16:00:00+00:00, 2022-01-02 20:00:00+00:00, 2022-01-03 00:00:00+00:00, 2022-01-03 04:00:00+00:00, 2022-01-03 08:00:00+00:00, 2022-01-03 12:00:00+00:00, 2022-01-03 16:00:00+00:00, 2022-01-03 20:00:00+00:00, 2022-01-04 00:00:00+00:00, 2022-01-04 04:00:00+00:00, 2022-01-04 08:00:00+00:00, 2022-01-04 12:00:00+00:00, 2022-01-04 16:00:00+00:00, 2022-01-04 20:00:00+00:00, 2022-01-05 00:00:00+00:00, 2022-01-05 04:00:00+00:00, 2022-01-05 08:00:00+00:00, 2022-01-05 12:00:00+00:00, 2022-01-05 16:00:00+00:00, 2022-01-05 20:00:00+00:00, 2022-01-06 00:00:00+00:00, 2022-01-06 04:00:00+00:00, 2022-01-06 08:00:00+00:00, 2022-01-06 12:00:00+00:00, 2022-01-06 16:00:00+00:00, 2022-01-06 20:00:00+00:00, 2022-01-07 00:00:00+00:00, 2022-01-07 04:00:00+00:00, 2022-01-07 08:00:00+00:00, 2022-01-07 12:00:00+00:00, 2022-01-07 16:00:00+00:00, 2022-01-07 20:00:00+00:00, 2022-01-08 00:00:00+00:00, 2022-01-08 04:00:00+00:00, 2022-01-08 08:00:00+00:00, 2022-01-08 12:00:00+00:00, 2022-01-08 16:00:00+00:00, 2022-01-08 20:00:00+00:00, 2022-01-09 00:00:00+00:00, 2022-01-09 04:00:00+00:00, 2022-01-09 08:00:00+00:00, 2022-01-09 12:00:00+00:00, 2022-01-09 16:00:00+00:00, 2022-01-09 20:00:00+00:00, 2022-01-10 00:00:00+00:00, 2022-01-10 04:00:00+00:00, 2022-01-10 08:00:00+00:00, 2022-01-10 12:00:00+00:00, 2022-01-10 16:00:00+00:00, 2022-01-10 20:00:00+00:00, 2022-01-11 00:00:00+00:00, 2022-01-11 04:00:00+00:00, 2022-01-11 08:00:00+00:00, 2022-01-11 12:00:00+00:00, 2022-01-11 16:00:00+00:00, 2022-01-11 20:00:00+00:00, 2022-01-12 00:00:00+00:00, 2022-01-12 04:00:00+00:00, 2022-01-12 08:00:00+00:00, 2022-01-12 12:00:00+00:00, 2022-01-12 16:00:00+00:00, 2022-01-12 20:00:00+00:00, 2022-01-13 00:00:00+00:00, 2022-01-13 04:00:00+00:00, 2022-01-13 08:00:00+00:00, 2022-01-13 12:00:00+00:00, 2022-01-13 16:00:00+00:00, 2022-01-13 20:00:00+00:00, 2022-01-14 00:00:00+00:00, 2022-01-14 04:00:00+00:00, 2022-01-14 08:00:00+00:00, 2022-01-14 12:00:00+00:00, 2022-01-14 16:00:00+00:00, 2022-01-14 20:00:00+00:00, 2022-01-15 00:00:00+00:00, 2022-01-15 04:00:00+00:00, 2022-01-15 08:00:00+00:00, 2022-01-15 12:00:00+00:00, 2022-01-15 16:00:00+00:00, 2022-01-15 20:00:00+00:00, 2022-01-16 00:00:00+00:00, 2022-01-16 04:00:00+00:00, 2022-01-16 08:00:00+00:00, 2022-01-16 12:00:00+00:00, 2022-01-16 16:00:00+00:00, 2022-01-16 20:00:00+00:00, 2022-01-17 00:00:00+00:00, 2022-01-17 04:00:00+00:00, 2022-01-17 08:00:00+00:00, 2022-01-17 12:00:00+00:00, ...]\n",
       " \n",
       " [2190 rows x 0 columns]}"
      ]
     },
     "execution_count": 28,
     "metadata": {},
     "output_type": "execute_result"
    }
   ],
   "source": [
    "n.loads_t"
   ]
  },
  {
   "cell_type": "code",
   "execution_count": 35,
   "metadata": {},
   "outputs": [
    {
     "name": "stderr",
     "output_type": "stream",
     "text": [
      "c:\\Users\\sdotson\\AppData\\Local\\miniforge3\\envs\\pypsa-illinois\\lib\\site-packages\\linopy\\common.py:133: UserWarning:\n",
      "\n",
      "coords for dimension(s) ['snapshot'] is not aligned with the pandas object. Previously, the indexes of the pandas were ignored and overwritten in these cases. Now, the pandas object's coordinates are taken considered for alignment.\n",
      "\n",
      "INFO:linopy.model: Solve problem using Highs solver\n",
      "INFO:linopy.io: Writing time: 0.06s\n",
      "INFO:linopy.solvers:Log file at C:\\Users\\sdotson\\AppData\\Local\\Temp\\highs.log.\n",
      "INFO:linopy.constants: Optimization successful: \n",
      "Status: ok\n",
      "Termination condition: optimal\n",
      "Solution: 4382 primals, 13142 duals\n",
      "Objective: 1.06e+10\n",
      "Solver model: available\n",
      "Solver message: optimal\n",
      "\n",
      "c:\\Users\\sdotson\\AppData\\Local\\miniforge3\\envs\\pypsa-illinois\\lib\\site-packages\\pypsa\\optimization\\optimize.py:357: FutureWarning:\n",
      "\n",
      "A value is trying to be set on a copy of a DataFrame or Series through chained assignment using an inplace method.\n",
      "The behavior will change in pandas 3.0. This inplace method will never work because the intermediate object on which we are setting values always behaves as a copy.\n",
      "\n",
      "For example, when doing 'df[col].method(value, inplace=True)', try using 'df.method({col: value}, inplace=True)' or df[col] = df[col].method(value) instead, to perform the operation inplace on the original object.\n",
      "\n",
      "\n",
      "\n",
      "INFO:pypsa.optimization.optimize:The shadow-prices of the constraints Generator-ext-p-lower, Generator-ext-p-upper were not assigned to the network.\n"
     ]
    },
    {
     "data": {
      "text/plain": [
       "('ok', 'optimal')"
      ]
     },
     "execution_count": 35,
     "metadata": {},
     "output_type": "execute_result"
    }
   ],
   "source": [
    "n.optimize(solver_name='highs')"
   ]
  },
  {
   "cell_type": "code",
   "execution_count": 36,
   "metadata": {},
   "outputs": [
    {
     "data": {
      "text/html": [
       "<div>\n",
       "<style scoped>\n",
       "    .dataframe tbody tr th:only-of-type {\n",
       "        vertical-align: middle;\n",
       "    }\n",
       "\n",
       "    .dataframe tbody tr th {\n",
       "        vertical-align: top;\n",
       "    }\n",
       "\n",
       "    .dataframe thead th {\n",
       "        text-align: right;\n",
       "    }\n",
       "</style>\n",
       "<table border=\"1\" class=\"dataframe\">\n",
       "  <thead>\n",
       "    <tr style=\"text-align: right;\">\n",
       "      <th>Generator</th>\n",
       "      <th>CE OCGT</th>\n",
       "      <th>0004 OCGT</th>\n",
       "    </tr>\n",
       "    <tr>\n",
       "      <th>snapshot</th>\n",
       "      <th></th>\n",
       "      <th></th>\n",
       "    </tr>\n",
       "  </thead>\n",
       "  <tbody>\n",
       "    <tr>\n",
       "      <th>2022-01-01 00:00:00+00:00</th>\n",
       "      <td>10221.00</td>\n",
       "      <td>4720.00</td>\n",
       "    </tr>\n",
       "    <tr>\n",
       "      <th>2022-01-01 04:00:00+00:00</th>\n",
       "      <td>9156.75</td>\n",
       "      <td>4259.75</td>\n",
       "    </tr>\n",
       "    <tr>\n",
       "      <th>2022-01-01 08:00:00+00:00</th>\n",
       "      <td>8376.00</td>\n",
       "      <td>3993.50</td>\n",
       "    </tr>\n",
       "    <tr>\n",
       "      <th>2022-01-01 12:00:00+00:00</th>\n",
       "      <td>8713.00</td>\n",
       "      <td>4258.25</td>\n",
       "    </tr>\n",
       "    <tr>\n",
       "      <th>2022-01-01 16:00:00+00:00</th>\n",
       "      <td>9598.00</td>\n",
       "      <td>4814.75</td>\n",
       "    </tr>\n",
       "    <tr>\n",
       "      <th>...</th>\n",
       "      <td>...</td>\n",
       "      <td>...</td>\n",
       "    </tr>\n",
       "    <tr>\n",
       "      <th>2022-12-31 04:00:00+00:00</th>\n",
       "      <td>9765.50</td>\n",
       "      <td>4787.25</td>\n",
       "    </tr>\n",
       "    <tr>\n",
       "      <th>2022-12-31 08:00:00+00:00</th>\n",
       "      <td>8957.25</td>\n",
       "      <td>4491.75</td>\n",
       "    </tr>\n",
       "    <tr>\n",
       "      <th>2022-12-31 12:00:00+00:00</th>\n",
       "      <td>9507.25</td>\n",
       "      <td>4774.00</td>\n",
       "    </tr>\n",
       "    <tr>\n",
       "      <th>2022-12-31 16:00:00+00:00</th>\n",
       "      <td>9693.75</td>\n",
       "      <td>4851.75</td>\n",
       "    </tr>\n",
       "    <tr>\n",
       "      <th>2022-12-31 20:00:00+00:00</th>\n",
       "      <td>9786.00</td>\n",
       "      <td>4756.75</td>\n",
       "    </tr>\n",
       "  </tbody>\n",
       "</table>\n",
       "<p>2190 rows × 2 columns</p>\n",
       "</div>"
      ],
      "text/plain": [
       "Generator                   CE OCGT  0004 OCGT\n",
       "snapshot                                      \n",
       "2022-01-01 00:00:00+00:00  10221.00    4720.00\n",
       "2022-01-01 04:00:00+00:00   9156.75    4259.75\n",
       "2022-01-01 08:00:00+00:00   8376.00    3993.50\n",
       "2022-01-01 12:00:00+00:00   8713.00    4258.25\n",
       "2022-01-01 16:00:00+00:00   9598.00    4814.75\n",
       "...                             ...        ...\n",
       "2022-12-31 04:00:00+00:00   9765.50    4787.25\n",
       "2022-12-31 08:00:00+00:00   8957.25    4491.75\n",
       "2022-12-31 12:00:00+00:00   9507.25    4774.00\n",
       "2022-12-31 16:00:00+00:00   9693.75    4851.75\n",
       "2022-12-31 20:00:00+00:00   9786.00    4756.75\n",
       "\n",
       "[2190 rows x 2 columns]"
      ]
     },
     "execution_count": 36,
     "metadata": {},
     "output_type": "execute_result"
    }
   ],
   "source": [
    "n.generators_t.p"
   ]
  },
  {
   "cell_type": "code",
   "execution_count": 39,
   "metadata": {},
   "outputs": [],
   "source": [
    "def plot_dispatch(n, time=\"2022-07\"):\n",
    "    p_by_carrier = n.generators_t.p.groupby(n.generators.carrier, axis=1).sum().div(1e3)\n",
    "\n",
    "    if not n.storage_units.empty:\n",
    "        sto = n.storage_units_t.p.T.groupby(n.storage_units.carrier).sum().T.div(1e3)\n",
    "        p_by_carrier = pd.concat([p_by_carrier, sto], axis=1)\n",
    "\n",
    "    fig, ax = plt.subplots(figsize=(6, 3))\n",
    "\n",
    "    color = p_by_carrier.columns.map(n.carriers.color)\n",
    "\n",
    "    p_by_carrier.where(p_by_carrier > 0).loc[time].plot.area(\n",
    "        ax=ax,\n",
    "        linewidth=0,\n",
    "        color=color,\n",
    "    )\n",
    "\n",
    "    charge = p_by_carrier.where(p_by_carrier < 0).dropna(how=\"all\", axis=1).loc[time]\n",
    "\n",
    "    if not charge.empty:\n",
    "        charge.plot.area(\n",
    "            ax=ax,\n",
    "            linewidth=0,\n",
    "            color=charge.columns.map(n.carriers.color),\n",
    "        )\n",
    "\n",
    "    n.loads_t.p_set.sum(axis=1).loc[time].div(1e3).plot(ax=ax, c=\"k\")\n",
    "\n",
    "    plt.legend(loc=(1.05, 0))\n",
    "    ax.set_ylabel(\"GW\")\n",
    "    ax.set_ylim(-200, 200)"
   ]
  },
  {
   "cell_type": "code",
   "execution_count": 40,
   "metadata": {},
   "outputs": [
    {
     "name": "stderr",
     "output_type": "stream",
     "text": [
      "C:\\Users\\sdotson\\AppData\\Local\\Temp\\ipykernel_19016\\2439899802.py:2: FutureWarning:\n",
      "\n",
      "DataFrame.groupby with axis=1 is deprecated. Do `frame.T.groupby(...)` without axis instead.\n",
      "\n"
     ]
    },
    {
     "data": {
      "image/png": "[encoded data removed]",
      "text/plain": [
       "<Figure size 600x300 with 1 Axes>"
      ]
     },
     "metadata": {},
     "output_type": "display_data"
    }
   ],
   "source": [
    "plot_dispatch(n)"
   ]
  },
  {
   "cell_type": "code",
   "execution_count": null,
   "metadata": {},
   "outputs": [],
   "source": []
  }
 ],
 "metadata": {
  "kernelspec": {
   "display_name": "pypsa-illinois",
   "language": "python",
   "name": "python3"
  },
  "language_info": {
   "codemirror_mode": {
    "name": "ipython",
    "version": 3
   },
   "file_extension": ".py",
   "mimetype": "text/x-python",
   "name": "python",
   "nbconvert_exporter": "python",
   "pygments_lexer": "ipython3",
   "version": "3.10.13"
  }
 },
 "nbformat": 4,
 "nbformat_minor": 2
}
